{
 "cells": [
  {
   "cell_type": "markdown",
   "metadata": {
    "id": "IsjUmU0MvC9H"
   },
   "source": [
    "Linear regression 을 학습하며, 기계학습의 원리 및 TensorFlow 를 익히는 notebook 입니다.\n"
   ]
  },
  {
   "cell_type": "markdown",
   "metadata": {
    "id": "RHPk_HKVvF6b"
   },
   "source": [
    "**라이브러리 Import 하기**"
   ]
  },
  {
   "cell_type": "code",
   "execution_count": null,
   "metadata": {
    "id": "FW2cb28hvEZW"
   },
   "outputs": [],
   "source": [
    "#import tensorflow as tf\n",
    "import tensorflow.compat.v1 as tf\n",
    "tf.disable_v2_behavior()\n",
    "\n",
    "import numpy as np\n",
    "import matplotlib.pyplot as plt"
   ]
  },
  {
   "cell_type": "markdown",
   "metadata": {
    "id": "Up9pxggrvPpm"
   },
   "source": [
    "**X and Y data (given)**"
   ]
  },
  {
   "cell_type": "code",
   "execution_count": null,
   "metadata": {
    "id": "ShLa_zd1vJP3"
   },
   "outputs": [],
   "source": [
    "x_train = [1, 2, 3, 4, 5]\n",
    "#y_train = [2, 4, 6, 8, 10]\n",
    "y_train = [3, 5, 7, 9, 11] #y = 2x +1, w=2, b=1이 나와야 함\n",
    "\n",
    "signal_length = len(x_train)\n",
    "y_noise = np.random.normal(0, 1, signal_length)\n",
    "\n",
    "y_train = y_train + y_noise\n",
    "# 다음의 것들도 해보시오\n",
    "#y_train = [2, 4, 6] # 그냥 x_train 에 2배 곱해서 생성\n",
    "#y_train = [3, 5, 7]"
   ]
  },
  {
   "cell_type": "code",
   "execution_count": null,
   "metadata": {
    "colab": {
     "base_uri": "https://localhost:8080/",
     "height": 265
    },
    "id": "bOrvbHwSvSY3",
    "outputId": "70f5f2de-146c-4a8e-d9e6-6e9320608671"
   },
   "outputs": [
    {
     "data": {
      "image/png": "[encoded data removed]",
      "text/plain": [
       "<Figure size 432x288 with 1 Axes>"
      ]
     },
     "metadata": {
      "needs_background": "light",
      "tags": []
     },
     "output_type": "display_data"
    }
   ],
   "source": [
    "plt.plot(x_train, y_train,'.-')\n",
    "plt.grid()"
   ]
  },
  {
   "cell_type": "markdown",
   "metadata": {
    "id": "Ugw1KEk6vYWC"
   },
   "source": [
    "**Initialization**"
   ]
  },
  {
   "cell_type": "code",
   "execution_count": null,
   "metadata": {
    "id": "F76CfYmuvWZf"
   },
   "outputs": [],
   "source": [
    "useRandom = False"
   ]
  },
  {
   "cell_type": "code",
   "execution_count": null,
   "metadata": {
    "id": "qqxfusxevbLz"
   },
   "outputs": [],
   "source": [
    "if useRandom:\n",
    "    W = tf.Variable(tf.random_normal([1]), name='weight')\n",
    "    b = tf.Variable(tf.random_normal([1]), name='bias')\n",
    "else:\n",
    "    w0 = 7.0;\n",
    "    b0 = 5.0;\n",
    "\n",
    "    W = tf.Variable(w0*tf.ones([1]), name='weight')\n",
    "    b = tf.Variable(b0*tf.ones([1]), name='bias')"
   ]
  },
  {
   "cell_type": "markdown",
   "metadata": {
    "id": "NowqjMlavjAY"
   },
   "source": [
    "**Our hypothesis**"
   ]
  },
  {
   "cell_type": "markdown",
   "metadata": {
    "id": "N4pE65d5vkyX"
   },
   "source": [
    "$$ H(x)=Wx + b $$"
   ]
  },
  {
   "cell_type": "code",
   "execution_count": null,
   "metadata": {
    "id": "K9PK_gbcvdJM"
   },
   "outputs": [],
   "source": [
    "hypothesis = x_train * W + b"
   ]
  },
  {
   "cell_type": "markdown",
   "metadata": {
    "id": "cjmhnFNnvoa6"
   },
   "source": [
    "**cost/loss function 정의하기**"
   ]
  },
  {
   "cell_type": "markdown",
   "metadata": {
    "id": "8X_qswDAvvOE"
   },
   "source": [
    "*   loss of one training example :\n"
   ]
  },
  {
   "cell_type": "markdown",
   "metadata": {
    "id": "uh9vX49Hvz-c"
   },
   "source": [
    "$$loss = \\mathcal{L}(\\hat{y}, y) = (\\hat y^{(i)} - y^{(i)})^2$$"
   ]
  },
  {
   "cell_type": "code",
   "execution_count": null,
   "metadata": {
    "id": "R8iFzgkUv00W"
   },
   "outputs": [],
   "source": [
    "loss = tf.reduce_mean(tf.square(hypothesis - y_train))"
   ]
  },
  {
   "cell_type": "markdown",
   "metadata": {
    "id": "WAvi3u6Wv6wV"
   },
   "source": [
    "**Optimizer**"
   ]
  },
  {
   "cell_type": "code",
   "execution_count": null,
   "metadata": {
    "id": "V42x_EDkv6BY"
   },
   "outputs": [],
   "source": [
    "optimizer = tf.train.GradientDescentOptimizer(learning_rate=0.01)\n",
    "train = optimizer.minimize(loss)"
   ]
  },
  {
   "cell_type": "markdown",
   "metadata": {
    "id": "d_kDTJ3Rv9nd"
   },
   "source": [
    "**Launch the graph in a session**"
   ]
  },
  {
   "cell_type": "code",
   "execution_count": null,
   "metadata": {
    "id": "YkyHG7zHv86_"
   },
   "outputs": [],
   "source": [
    "sess = tf.Session() #세션을 염"
   ]
  },
  {
   "cell_type": "markdown",
   "metadata": {
    "id": "sHP0HxFcwBsl"
   },
   "source": [
    "**Initializes global variables in the graph.**"
   ]
  },
  {
   "cell_type": "code",
   "execution_count": null,
   "metadata": {
    "id": "EunGGi8XwAyP"
   },
   "outputs": [],
   "source": [
    "sess.run(tf.global_variables_initializer())"
   ]
  },
  {
   "cell_type": "code",
   "execution_count": null,
   "metadata": {
    "colab": {
     "base_uri": "https://localhost:8080/"
    },
    "id": "eu0-VHwMwEEs",
    "outputId": "13a2b396-08dd-4f73-cd48-0c890258f091"
   },
   "outputs": [
    {
     "name": "stdout",
     "output_type": "stream",
     "text": [
      "0 \t 234.81104 \t 5.6820817 \t 4.6205444\n",
      "50 \t 2.4049878 \t 1.5885085 \t 2.8248546\n",
      "100 \t 1.8246971 \t 1.732237 \t 2.3059266\n",
      "150 \t 1.4111133 \t 1.8535813 \t 1.8678349\n",
      "200 \t 1.1163442 \t 1.9560235 \t 1.4979863\n",
      "250 \t 0.9062564 \t 2.042508 \t 1.1857499\n",
      "300 \t 0.7565233 \t 2.1155202 \t 0.9221518\n",
      "350 \t 0.6498059 \t 2.1771593 \t 0.6996154\n",
      "400 \t 0.5737464 \t 2.2291968 \t 0.51174426\n",
      "450 \t 0.5195373 \t 2.273128 \t 0.35313857\n",
      "500 \t 0.48090163 \t 2.310216 \t 0.21923946\n",
      "550 \t 0.45336518 \t 2.3415265 \t 0.10619796\n",
      "600 \t 0.43373948 \t 2.3679595 \t 0.010765839\n",
      "650 \t 0.41975194 \t 2.3902755 \t -0.06980058\n",
      "700 \t 0.40978274 \t 2.409115 \t -0.13781713\n",
      "750 \t 0.40267748 \t 2.4250195 \t -0.19523838\n",
      "800 \t 0.39761338 \t 2.4384468 \t -0.24371491\n",
      "850 \t 0.39400423 \t 2.449782 \t -0.2846398\n",
      "900 \t 0.39143187 \t 2.459352 \t -0.31918997\n",
      "950 \t 0.38959846 \t 2.467431 \t -0.34835795\n",
      "1000 \t 0.38829178 \t 2.474252 \t -0.3729825\n"
     ]
    }
   ],
   "source": [
    "nb_epoch = 1001\n",
    "vloss = [] #empty list\n",
    "vb = [] #empty list\n",
    "vw = [] #empty list\n",
    "for step in range(nb_epoch):\n",
    "    sess.run(train)\n",
    "    loss1 = sess.run(loss)\n",
    "    vloss.append(loss1)\n",
    "    \n",
    "    if step % 50 == 0: # 5번마다\n",
    "        w1 = sess.run(W)[0] # 기울기\n",
    "        b1 = sess.run(b)[0] # bias\n",
    "        \n",
    "        print(step,'\\t', loss1, '\\t', w1, '\\t',b1)"
   ]
  },
  {
   "cell_type": "code",
   "execution_count": null,
   "metadata": {
    "colab": {
     "base_uri": "https://localhost:8080/",
     "height": 296
    },
    "id": "xjpsPmatwFeP",
    "outputId": "dce2a0ed-2a48-4dac-8df0-5ca55576f717"
   },
   "outputs": [
    {
     "data": {
      "text/plain": [
       "Text(0, 0.5, 'loss')"
      ]
     },
     "execution_count": 13,
     "metadata": {
      "tags": []
     },
     "output_type": "execute_result"
    },
    {
     "data": {
      "image/png": "[encoded data removed]",
      "text/plain": [
       "<Figure size 432x288 with 1 Axes>"
      ]
     },
     "metadata": {
      "needs_background": "light",
      "tags": []
     },
     "output_type": "display_data"
    }
   ],
   "source": [
    "plt.plot(vloss[:20],'.-')\n",
    "plt.xlabel('epoch')\n",
    "plt.ylabel('loss')"
   ]
  },
  {
   "cell_type": "markdown",
   "metadata": {
    "id": "7RdwDNaQwJOn"
   },
   "source": [
    "TODO: w, b의 epoch 에 따른 변화 그래프 넣기 !"
   ]
  },
  {
   "cell_type": "markdown",
   "metadata": {
    "id": "0CLE7qP8wLew"
   },
   "source": [
    "**학습완료**"
   ]
  },
  {
   "cell_type": "code",
   "execution_count": null,
   "metadata": {
    "id": "mfKJ-iU8wHp6"
   },
   "outputs": [],
   "source": [
    "w1 = sess.run(W)[0] # 기울기\n",
    "b1 = sess.run(b)[0] # bias"
   ]
  },
  {
   "cell_type": "markdown",
   "metadata": {
    "id": "ahj36q-RwQMi"
   },
   "source": [
    "출력해보기"
   ]
  },
  {
   "cell_type": "code",
   "execution_count": null,
   "metadata": {
    "colab": {
     "base_uri": "https://localhost:8080/"
    },
    "id": "PxiM85I3wPm-",
    "outputId": "11fd8941-fe70-4f46-f14e-e79a76a4a81f"
   },
   "outputs": [
    {
     "name": "stdout",
     "output_type": "stream",
     "text": [
      "2.474252 -0.3729825\n"
     ]
    }
   ],
   "source": [
    "print(w1, b1)"
   ]
  },
  {
   "cell_type": "code",
   "execution_count": null,
   "metadata": {
    "colab": {
     "base_uri": "https://localhost:8080/"
    },
    "id": "l9vGpzZPwRwT",
    "outputId": "e45bbb8c-e317-4ea2-af06-0389ca0e1a30"
   },
   "outputs": [
    {
     "name": "stdout",
     "output_type": "stream",
     "text": [
      "y = 2.474252x + -0.3729825\n"
     ]
    }
   ],
   "source": [
    "str1 = 'y = ' + str(w1) +'x + ' + str(b1)\n",
    "print(str1)"
   ]
  },
  {
   "cell_type": "code",
   "execution_count": null,
   "metadata": {
    "colab": {
     "base_uri": "https://localhost:8080/",
     "height": 298
    },
    "id": "4_EMIUNfwTXa",
    "outputId": "643d4968-e114-4c9d-eb0e-e9e13f7b3fae"
   },
   "outputs": [
    {
     "data": {
      "text/plain": [
       "Text(0.5, 1.0, 'y = 2.474252x + -0.3729825')"
      ]
     },
     "execution_count": 17,
     "metadata": {
      "tags": []
     },
     "output_type": "execute_result"
    },
    {
     "data": {
      "image/png": "[encoded data removed]",
      "text/plain": [
       "<Figure size 432x288 with 1 Axes>"
      ]
     },
     "metadata": {
      "needs_background": "light",
      "tags": []
     },
     "output_type": "display_data"
    }
   ],
   "source": [
    "plt.figure(figsize=(6,4)) # figsize를 바꾸어보세요\n",
    "plt.plot(x_train, y_train,'o') #train data 그리기\n",
    "\n",
    "# 직선 그래프를 그리기 위한 코드\n",
    "# 그래프의 x좌표를 일정 간격으로 설정함\n",
    "x1 = np.linspace(np.min(x_train)-1, np.max(x_train)+1)\n",
    "y1 = w1*x1 + b1\n",
    "plt.plot(x1, y1)\n",
    "\n",
    "plt.grid() # 격자\n",
    "#plt.axis((np.min(x_train) - 1, np.max(x_train) + 1, np.min(y_train) - 1, np.max(y_train) + 1))\n",
    "plt.title(str1)"
   ]
  },
  {
   "cell_type": "markdown",
   "metadata": {
    "id": "7lTDYd8VwWT9"
   },
   "source": [
    "##스스로 해보기\n",
    "아래 부분을 수정해서 처음부터 다시 진행해보기 바랍니다.\n",
    "\n",
    "* 예1) 노이즈를 다르게 준다\n",
    "<br> x_train = [1, 2, 3]\n",
    "<br> y_train = [2+0.1, 4-0.3, 6+0.15] # 약간의 noise 추가\n",
    "* 예2) 데이터의 갯수를 지금은 세 개의 점으로 했으나 더 늘려서도 해본다.\n",
    "* 예3) 데이터의 모델을 현재는 y=2x+0 으로 해서 만들었으나, 바꾸어본다.\n",
    "<br> y=3x-5 \n",
    "<br> y=1.2x + 3\n",
    "* 예4) 초기값인 w0, b0를 다르게 설정해본다.\n",
    "<br> w0 = 7.0;\n",
    "<br> b0 = 5.0;\n"
   ]
  },
  {
   "cell_type": "code",
   "execution_count": null,
   "metadata": {
    "id": "_jhLHuQPtVQ5"
   },
   "outputs": [],
   "source": [
    "x_train = [1, 2, 3, 4, 5]\n",
    "y_train = [3, 5, 7, 9, 11] #y = 2x +1\n",
    "\n",
    "signal_length = len(x_train)\n",
    "y_noise = np.random.normal(0, 1, signal_length)\n",
    "\n",
    "y_train = y_train + y_noise"
   ]
  },
  {
   "cell_type": "code",
   "execution_count": null,
   "metadata": {
    "colab": {
     "base_uri": "https://localhost:8080/",
     "height": 265
    },
    "id": "AFb--KUOtfix",
    "outputId": "6b25c617-2055-4d69-ea0b-8700ce808896",
    "scrolled": true
   },
   "outputs": [
    {
     "data": {
      "image/png": "[encoded data removed]",
      "text/plain": [
       "<Figure size 432x288 with 1 Axes>"
      ]
     },
     "metadata": {
      "needs_background": "light",
      "tags": []
     },
     "output_type": "display_data"
    }
   ],
   "source": [
    "plt.plot(x_train, y_train,'.-')\n",
    "plt.grid()"
   ]
  },
  {
   "cell_type": "code",
   "execution_count": null,
   "metadata": {
    "id": "Wk7twG3ptjWC"
   },
   "outputs": [],
   "source": [
    "useRandom = False"
   ]
  },
  {
   "cell_type": "code",
   "execution_count": null,
   "metadata": {
    "id": "3RzU8VaPtuMi"
   },
   "outputs": [],
   "source": [
    "if useRandom:\n",
    "    W = tf.Variable(tf.random_normal([1]), name='weight')\n",
    "    b = tf.Variable(tf.random_normal([1]), name='bias')\n",
    "else:\n",
    "    w0 = 10.0;\n",
    "    b0 = 3.0;\n",
    "\n",
    "    W = tf.Variable(w0*tf.ones([1]), name='weight')\n",
    "    b = tf.Variable(b0*tf.ones([1]), name='bias')"
   ]
  },
  {
   "cell_type": "code",
   "execution_count": null,
   "metadata": {
    "id": "H9MlFHR7tvP8"
   },
   "outputs": [],
   "source": [
    "hypothesis = x_train * W + b"
   ]
  },
  {
   "cell_type": "code",
   "execution_count": null,
   "metadata": {
    "id": "I55P3txOt2Ek"
   },
   "outputs": [],
   "source": [
    "loss = tf.reduce_mean(tf.square(hypothesis - y_train))"
   ]
  },
  {
   "cell_type": "code",
   "execution_count": null,
   "metadata": {
    "id": "u2nIInA9t4VZ"
   },
   "outputs": [],
   "source": [
    "optimizer = tf.train.GradientDescentOptimizer(learning_rate=0.01)\n",
    "train = optimizer.minimize(loss)"
   ]
  },
  {
   "cell_type": "code",
   "execution_count": null,
   "metadata": {
    "id": "qTKwPxKit6XQ"
   },
   "outputs": [],
   "source": [
    "sess = tf.Session()"
   ]
  },
  {
   "cell_type": "code",
   "execution_count": null,
   "metadata": {
    "id": "PVXkj6qKt8VF"
   },
   "outputs": [],
   "source": [
    "sess.run(tf.global_variables_initializer())"
   ]
  },
  {
   "cell_type": "code",
   "execution_count": null,
   "metadata": {
    "colab": {
     "base_uri": "https://localhost:8080/"
    },
    "id": "CMenbbc-t-IZ",
    "outputId": "b9e93c52-f693-4da4-e496-95afdf5956dd"
   },
   "outputs": [
    {
     "name": "stdout",
     "output_type": "stream",
     "text": [
      "0 \t 471.656 \t 8.115094 \t 2.477501\n",
      "50 \t 0.53266096 \t 2.0385191 \t 0.7755445\n",
      "100 \t 0.5321906 \t 2.0426028 \t 0.7607685\n",
      "150 \t 0.53185546 \t 2.0460575 \t 0.74829626\n",
      "200 \t 0.53161645 \t 2.048974 \t 0.73776656\n",
      "250 \t 0.5314462 \t 2.0514362 \t 0.72887725\n",
      "300 \t 0.53132474 \t 2.0535147 \t 0.72137254\n",
      "350 \t 0.5312382 \t 2.0552697 \t 0.7150371\n",
      "400 \t 0.5311767 \t 2.0567513 \t 0.70968825\n",
      "450 \t 0.5311329 \t 2.058002 \t 0.7051727\n",
      "500 \t 0.53110135 \t 2.0590577 \t 0.7013607\n",
      "550 \t 0.5310791 \t 2.0599492 \t 0.6981424\n",
      "600 \t 0.5310632 \t 2.0607016 \t 0.69542545\n",
      "650 \t 0.53105175 \t 2.061337 \t 0.69313186\n",
      "700 \t 0.5310438 \t 2.0618732 \t 0.6911957\n",
      "750 \t 0.5310381 \t 2.062326 \t 0.6895612\n",
      "800 \t 0.5310338 \t 2.0627084 \t 0.6881813\n",
      "850 \t 0.53103083 \t 2.0630307 \t 0.6870164\n",
      "900 \t 0.53102887 \t 2.0633032 \t 0.68603283\n",
      "950 \t 0.53102756 \t 2.0635333 \t 0.68520266\n",
      "1000 \t 0.5310264 \t 2.0637271 \t 0.68450177\n",
      "1050 \t 0.5310256 \t 2.0638914 \t 0.6839101\n",
      "1100 \t 0.53102505 \t 2.0640297 \t 0.6834105\n",
      "1150 \t 0.53102463 \t 2.0641463 \t 0.6829887\n",
      "1200 \t 0.53102434 \t 2.0642455 \t 0.6826325\n",
      "1250 \t 0.53102416 \t 2.0643284 \t 0.68233186\n",
      "1300 \t 0.5310241 \t 2.0643988 \t 0.68207806\n",
      "1350 \t 0.53102386 \t 2.0644581 \t 0.68186396\n",
      "1400 \t 0.53102404 \t 2.064508 \t 0.6816833\n",
      "1450 \t 0.53102386 \t 2.0645504 \t 0.6815302\n",
      "1500 \t 0.53102386 \t 2.0645864 \t 0.68140143\n",
      "1550 \t 0.5310238 \t 2.0646164 \t 0.68129224\n",
      "1600 \t 0.53102386 \t 2.0646415 \t 0.6812009\n",
      "1650 \t 0.5310238 \t 2.0646636 \t 0.6811227\n",
      "1700 \t 0.53102386 \t 2.0646815 \t 0.68105686\n",
      "1750 \t 0.53102374 \t 2.0646966 \t 0.68100184\n",
      "1800 \t 0.5310238 \t 2.0647094 \t 0.68095577\n",
      "1850 \t 0.53102374 \t 2.064721 \t 0.68091583\n",
      "1900 \t 0.5310238 \t 2.0647304 \t 0.6808817\n",
      "1950 \t 0.5310237 \t 2.0647383 \t 0.6808532\n",
      "2000 \t 0.53102374 \t 2.0647447 \t 0.6808292\n",
      "2050 \t 0.53102386 \t 2.0647502 \t 0.68080944\n",
      "2100 \t 0.5310237 \t 2.0647547 \t 0.68079275\n",
      "2150 \t 0.5310237 \t 2.0647585 \t 0.68077874\n",
      "2200 \t 0.5310238 \t 2.0647619 \t 0.6807668\n",
      "2250 \t 0.5310237 \t 2.0647643 \t 0.6807575\n",
      "2300 \t 0.53102374 \t 2.0647666 \t 0.6807488\n",
      "2350 \t 0.5310238 \t 2.0647686 \t 0.6807426\n",
      "2400 \t 0.5310237 \t 2.06477 \t 0.68073666\n",
      "2450 \t 0.53102374 \t 2.0647714 \t 0.68073153\n",
      "2500 \t 0.5310238 \t 2.0647724 \t 0.68072844\n",
      "2550 \t 0.53102386 \t 2.064773 \t 0.68072546\n",
      "2600 \t 0.5310236 \t 2.064774 \t 0.6807225\n",
      "2650 \t 0.5310237 \t 2.0647748 \t 0.6807195\n",
      "2700 \t 0.5310238 \t 2.0647752 \t 0.6807174\n",
      "2750 \t 0.5310238 \t 2.0647752 \t 0.6807174\n",
      "2800 \t 0.5310238 \t 2.0647752 \t 0.6807174\n",
      "2850 \t 0.5310238 \t 2.0647752 \t 0.6807174\n",
      "2900 \t 0.5310238 \t 2.0647752 \t 0.6807174\n",
      "2950 \t 0.5310238 \t 2.0647752 \t 0.6807174\n",
      "3000 \t 0.5310238 \t 2.0647752 \t 0.6807174\n"
     ]
    }
   ],
   "source": [
    "nb_epoch = 3001\n",
    "vloss = [] #empty list\n",
    "vb = [] #empty list\n",
    "vw = [] #empty list\n",
    "for step in range(nb_epoch):\n",
    "    sess.run(train)\n",
    "    loss1 = sess.run(loss)\n",
    "    vloss.append(loss1)\n",
    "    \n",
    "    if step % 50 == 0: # 5번마다\n",
    "        w1 = sess.run(W)[0] # 기울기\n",
    "        b1 = sess.run(b)[0] # bias\n",
    "        \n",
    "        print(step,'\\t', loss1, '\\t', w1, '\\t',b1)"
   ]
  },
  {
   "cell_type": "code",
   "execution_count": null,
   "metadata": {
    "colab": {
     "base_uri": "https://localhost:8080/",
     "height": 296
    },
    "id": "mLHUtVvYt_4a",
    "outputId": "0b5bdb31-41d3-4c2e-c6bd-a53a0bdb52d4"
   },
   "outputs": [
    {
     "data": {
      "text/plain": [
       "Text(0, 0.5, 'loss')"
      ]
     },
     "execution_count": 35,
     "metadata": {
      "tags": []
     },
     "output_type": "execute_result"
    },
    {
     "data": {
      "image/png": "[encoded data removed]",
      "text/plain": [
       "<Figure size 432x288 with 1 Axes>"
      ]
     },
     "metadata": {
      "needs_background": "light",
      "tags": []
     },
     "output_type": "display_data"
    }
   ],
   "source": [
    "plt.plot(vloss[:30],'.-')\n",
    "plt.xlabel('epoch')\n",
    "plt.ylabel('loss')"
   ]
  },
  {
   "cell_type": "code",
   "execution_count": null,
   "metadata": {
    "id": "z5eESFCtuO4I"
   },
   "outputs": [],
   "source": [
    "w1 = sess.run(W)[0] # 기울기\n",
    "b1 = sess.run(b)[0] # bias"
   ]
  },
  {
   "cell_type": "code",
   "execution_count": null,
   "metadata": {
    "colab": {
     "base_uri": "https://localhost:8080/"
    },
    "id": "lXF4Veh7ub6v",
    "outputId": "95832639-f554-4333-9e72-860922e2fd1f"
   },
   "outputs": [
    {
     "name": "stdout",
     "output_type": "stream",
     "text": [
      "2.0647752 0.6807174\n"
     ]
    }
   ],
   "source": [
    "print(w1, b1)"
   ]
  },
  {
   "cell_type": "code",
   "execution_count": null,
   "metadata": {
    "colab": {
     "base_uri": "https://localhost:8080/"
    },
    "id": "kloxzD86ufWE",
    "outputId": "e22236ed-21f2-48da-a0c0-dc20281c6af9"
   },
   "outputs": [
    {
     "name": "stdout",
     "output_type": "stream",
     "text": [
      "y = 2.0647752x + 0.6807174\n"
     ]
    }
   ],
   "source": [
    "str1 = 'y = ' + str(w1) +'x + ' + str(b1)\n",
    "print(str1)"
   ]
  },
  {
   "cell_type": "code",
   "execution_count": null,
   "metadata": {
    "colab": {
     "base_uri": "https://localhost:8080/",
     "height": 298
    },
    "id": "4aznFfBdugb5",
    "outputId": "d0638219-f250-43e8-b9b3-8b8e82603152"
   },
   "outputs": [
    {
     "data": {
      "text/plain": [
       "Text(0.5, 1.0, 'y = 2.0647752x + 0.6807174')"
      ]
     },
     "execution_count": 39,
     "metadata": {
      "tags": []
     },
     "output_type": "execute_result"
    },
    {
     "data": {
      "image/png": "[encoded data removed]",
      "text/plain": [
       "<Figure size 432x288 with 1 Axes>"
      ]
     },
     "metadata": {
      "needs_background": "light",
      "tags": []
     },
     "output_type": "display_data"
    }
   ],
   "source": [
    "plt.figure(figsize=(6,4)) # figsize를 바꾸어보세요\n",
    "plt.plot(x_train, y_train,'o') #train data 그리기\n",
    "\n",
    "# 직선 그래프를 그리기 위한 코드\n",
    "# 그래프의 x좌표를 일정 간격으로 설정함\n",
    "x1 = np.linspace(np.min(x_train)-1, np.max(x_train)+1)\n",
    "y1 = w1*x1 + b1\n",
    "plt.plot(x1, y1)\n",
    "\n",
    "plt.grid() # 격자\n",
    "#plt.axis((np.min(x_train) - 1, np.max(x_train) + 1, np.min(y_train) - 1, np.max(y_train) + 1))\n",
    "plt.title(str1)"
   ]
  },
  {
   "cell_type": "markdown",
   "metadata": {
    "id": "em_JTrtTPIFk"
   },
   "source": [
    "## R-Squared"
   ]
  },
  {
   "cell_type": "markdown",
   "metadata": {
    "id": "-NsEM4xSsVUL"
   },
   "source": [
    "R-Squared란? 모델이 데이터에 얼마나 적합한 지 수치적으로 결정하는 방법입니다."
   ]
  },
  {
   "cell_type": "code",
   "execution_count": null,
   "metadata": {
    "id": "AJsjYo_KPKXv"
   },
   "outputs": [],
   "source": [
    "import matplotlib.pyplot as plt\n",
    "import numpy as np\n",
    "from sklearn.linear_model import LinearRegression\n",
    "from sklearn.metrics import mean_squared_error\n",
    "import random\n",
    "%matplotlib inline"
   ]
  },
  {
   "cell_type": "markdown",
   "metadata": {
    "id": "i-x0k3IttIIS"
   },
   "source": [
    "### MSE (Mean Squared Error)"
   ]
  },
  {
   "cell_type": "code",
   "execution_count": null,
   "metadata": {
    "colab": {
     "base_uri": "https://localhost:8080/"
    },
    "id": "Uec0Hs2ZtHcw",
    "outputId": "b584fde0-d3f8-49a1-b871-c6f92288c15c"
   },
   "outputs": [
    {
     "name": "stdout",
     "output_type": "stream",
     "text": [
      "[[ 1]\n",
      " [ 5]\n",
      " [ 6]\n",
      " [ 7]\n",
      " [11]]\n"
     ]
    }
   ],
   "source": [
    "x=[[1],[2],[3],[4],[5]]\n",
    "y=[[1],[5],[6],[7],[11]]\n",
    "y=np.array(y)\n",
    "x=np.array(x)\n",
    "mean=(1+5+6+7+11)/5 #데이터의 평균값\n",
    "print(y)"
   ]
  },
  {
   "cell_type": "code",
   "execution_count": null,
   "metadata": {
    "colab": {
     "base_uri": "https://localhost:8080/",
     "height": 296
    },
    "id": "R8t4DVMItMzX",
    "outputId": "31daa5ae-5cdb-4ee1-babe-e5700f0b357a"
   },
   "outputs": [
    {
     "data": {
      "text/plain": [
       "Text(0, 0.5, 'Y')"
      ]
     },
     "execution_count": 3,
     "metadata": {
      "tags": []
     },
     "output_type": "execute_result"
    },
    {
     "data": {
      "image/png": "[encoded data removed]",
      "text/plain": [
       "<Figure size 432x288 with 1 Axes>"
      ]
     },
     "metadata": {
      "needs_background": "light",
      "tags": []
     },
     "output_type": "display_data"
    }
   ],
   "source": [
    "plt.plot(x, y, marker='o',linestyle='')\n",
    "plt.xlabel('X')\n",
    "plt.ylabel('Y')"
   ]
  },
  {
   "cell_type": "code",
   "execution_count": null,
   "metadata": {
    "colab": {
     "base_uri": "https://localhost:8080/"
    },
    "id": "NxeyZ25DtQRU",
    "outputId": "0ff34bf6-d8c3-446b-84a6-f05798928321"
   },
   "outputs": [
    {
     "data": {
      "text/plain": [
       "LinearRegression(copy_X=True, fit_intercept=True, n_jobs=None, normalize=False)"
      ]
     },
     "execution_count": 4,
     "metadata": {
      "tags": []
     },
     "output_type": "execute_result"
    }
   ],
   "source": [
    "lr = LinearRegression()\n",
    "lr.fit(x,y)"
   ]
  },
  {
   "cell_type": "code",
   "execution_count": null,
   "metadata": {
    "colab": {
     "base_uri": "https://localhost:8080/",
     "height": 282
    },
    "id": "EE-rtCWttR6S",
    "outputId": "da3c97d8-c89c-4042-c0a5-bb36b93a4399"
   },
   "outputs": [
    {
     "data": {
      "text/plain": [
       "<matplotlib.lines.Line2D at 0x7fa964bf9ef0>"
      ]
     },
     "execution_count": 5,
     "metadata": {
      "tags": []
     },
     "output_type": "execute_result"
    },
    {
     "data": {
      "image/png": "[encoded data removed]",
      "text/plain": [
       "<Figure size 432x288 with 1 Axes>"
      ]
     },
     "metadata": {
      "needs_background": "light",
      "tags": []
     },
     "output_type": "display_data"
    }
   ],
   "source": [
    "plt.plot(x, y, marker='o',linestyle='')\n",
    "plt.plot(x,lr.predict(x),color = 'red')\n",
    "plt.axhline(y=mean, xmin=0.04, xmax=0.96, color = 'black')"
   ]
  },
  {
   "cell_type": "code",
   "execution_count": null,
   "metadata": {
    "colab": {
     "base_uri": "https://localhost:8080/"
    },
    "id": "2G8CZzqJtTw4",
    "outputId": "51702e01-b1df-4b88-b889-6af8bb39319f"
   },
   "outputs": [
    {
     "data": {
      "text/plain": [
       "0.7200000000000001"
      ]
     },
     "execution_count": 6,
     "metadata": {
      "tags": []
     },
     "output_type": "execute_result"
    }
   ],
   "source": [
    "mean_squared_error(y, lr.predict(x))"
   ]
  },
  {
   "cell_type": "code",
   "execution_count": null,
   "metadata": {
    "colab": {
     "base_uri": "https://localhost:8080/"
    },
    "id": "yvKELbNftU_2",
    "outputId": "61c89df0-20f8-44a0-90b5-5b40b4d74599"
   },
   "outputs": [
    {
     "name": "stdout",
     "output_type": "stream",
     "text": [
      "[[ 1.6]\n",
      " [ 3.8]\n",
      " [ 6. ]\n",
      " [ 8.2]\n",
      " [10.4]]\n"
     ]
    }
   ],
   "source": [
    "print(lr.predict(x))"
   ]
  },
  {
   "cell_type": "code",
   "execution_count": null,
   "metadata": {
    "id": "QuiGb1WHtWfB"
   },
   "outputs": [],
   "source": [
    "\n",
    "def myMSE(X, Y, line): \n",
    "    err=0\n",
    "    #for i in range(len(X)):        #예측값 MSE 구하기\n",
    "    #        err +=(Y[i][0]-line[i][0])**2 \n",
    "    \n",
    "    if (str(type(line)) == \"<class 'float'>\"): #평균 MSE 구하기\n",
    "        for i in range(len(X)):\n",
    "            err += (Y[i][0]-line)**2\n",
    "        \n",
    "    else:\n",
    "        for i in range(len(X)):        #예측값 MSE 구하기\n",
    "             err +=(Y[i][0]-line[i][0])**2 \n",
    "    \n",
    "    \n",
    "    MSE = err/len(X) \n",
    "    return MSE"
   ]
  },
  {
   "cell_type": "code",
   "execution_count": null,
   "metadata": {
    "colab": {
     "base_uri": "https://localhost:8080/"
    },
    "id": "tGU7IBcytYn4",
    "outputId": "6d76121b-a413-4527-dbf0-968c527b2388"
   },
   "outputs": [
    {
     "name": "stdout",
     "output_type": "stream",
     "text": [
      "MSE :  0.7200000000000001\n"
     ]
    }
   ],
   "source": [
    "print(\"MSE : \", myMSE(x,y,lr.predict(x)))"
   ]
  },
  {
   "cell_type": "markdown",
   "metadata": {
    "id": "Fri35F5Otbkj"
   },
   "source": [
    "### R squared"
   ]
  },
  {
   "cell_type": "code",
   "execution_count": null,
   "metadata": {
    "colab": {
     "base_uri": "https://localhost:8080/"
    },
    "id": "_4LLB_K-taMr",
    "outputId": "5f98efeb-b74d-4d89-a351-0b49056a0a44"
   },
   "outputs": [
    {
     "data": {
      "text/plain": [
       "0.9307692307692308"
      ]
     },
     "execution_count": 10,
     "metadata": {
      "tags": []
     },
     "output_type": "execute_result"
    }
   ],
   "source": [
    "lr.score(x, y)"
   ]
  },
  {
   "cell_type": "code",
   "execution_count": null,
   "metadata": {
    "id": "eXLSs91-teXn"
   },
   "outputs": [],
   "source": [
    "def myRsq(X,Y,model):\n",
    "    \n",
    "    #평균구하기\n",
    "    hap = 0\n",
    "    for i in range(len(X)):\n",
    "        hap += Y[i][0]\n",
    "    mean = float(hap/len(X))\n",
    "    print(\"평균 : \", mean)\n",
    "    \n",
    "    #모델fit하기\n",
    "    model.fit(X,Y)\n",
    "    \n",
    "    #MSE와 R-squared구하기\n",
    "    reg_mse=myMSE(X,Y,model.predict(X))\n",
    "    avg_mse=myMSE(X,Y,mean)\n",
    "    r=1-(reg_mse/avg_mse)\n",
    "    \n",
    "    #출력\n",
    "    #print(\"MSE of regression line : \",reg_mse)\n",
    "    #print(\"MSE of average line : \", avg_mse)\n",
    "    print(\"R-squared : \", r)"
   ]
  },
  {
   "cell_type": "code",
   "execution_count": null,
   "metadata": {
    "colab": {
     "base_uri": "https://localhost:8080/"
    },
    "id": "QUPCU5JltgZ0",
    "outputId": "8bbabd47-f62a-48e9-a548-f57ffa349d62"
   },
   "outputs": [
    {
     "name": "stdout",
     "output_type": "stream",
     "text": [
      "평균 :  6.0\n",
      "R-squared :  0.9307692307692308\n"
     ]
    }
   ],
   "source": [
    "myRsq(x,y,LinearRegression())"
   ]
  },
  {
   "cell_type": "markdown",
   "metadata": {
    "id": "Hqk6h22htlN2"
   },
   "source": [
    "### 100개 데이터로 해보기\n",
    "### 데이터가 선형모델에 적합한 경우"
   ]
  },
  {
   "cell_type": "markdown",
   "metadata": {
    "id": "tlNzN_aDtps9"
   },
   "source": [
    "#### 1. 데이터 만들기"
   ]
  },
  {
   "cell_type": "code",
   "execution_count": null,
   "metadata": {
    "id": "S26zURXhtiuZ"
   },
   "outputs": [],
   "source": [
    "data=100 #데이터 개수 정하기"
   ]
  },
  {
   "cell_type": "code",
   "execution_count": null,
   "metadata": {
    "colab": {
     "base_uri": "https://localhost:8080/"
    },
    "id": "HUG6ur7bttIN",
    "outputId": "912fd343-2f3c-4ebf-b8bf-c4509b7a199f"
   },
   "outputs": [
    {
     "data": {
      "text/plain": [
       "(100, 1)"
      ]
     },
     "execution_count": 14,
     "metadata": {
      "tags": []
     },
     "output_type": "execute_result"
    }
   ],
   "source": [
    "#x_train 데이터 만들기\n",
    "x_train=[]\n",
    "for i in range(1,data+1):\n",
    "    x_train.append([i])\n",
    "    \n",
    "x_train=np.array(x_train)\n",
    "x_train.shape"
   ]
  },
  {
   "cell_type": "code",
   "execution_count": null,
   "metadata": {
    "colab": {
     "base_uri": "https://localhost:8080/"
    },
    "id": "h968iPKqtvM3",
    "outputId": "47dad510-fac2-45aa-ae7f-269161cc10bb"
   },
   "outputs": [
    {
     "data": {
      "text/plain": [
       "(100, 1)"
      ]
     },
     "execution_count": 15,
     "metadata": {
      "tags": []
     },
     "output_type": "execute_result"
    }
   ],
   "source": [
    "#y_train 데이터 만들기\n",
    "y_train1=[]\n",
    "for i in range(1,data+1): #y_train에 노이즈를 만들어서 넣기\n",
    "    y_train1.append([i+random.uniform(-20, 20)])#난수발생시켜서 노이즈 만들기\n",
    "\n",
    "y_train1=np.array(y_train1)\n",
    "y_train1.shape"
   ]
  },
  {
   "cell_type": "code",
   "execution_count": null,
   "metadata": {
    "colab": {
     "base_uri": "https://localhost:8080/",
     "height": 296
    },
    "id": "7B9IeNBqtw6F",
    "outputId": "841033e3-9043-4866-80e2-8eb6071148ce"
   },
   "outputs": [
    {
     "data": {
      "text/plain": [
       "Text(0, 0.5, 'Y')"
      ]
     },
     "execution_count": 16,
     "metadata": {
      "tags": []
     },
     "output_type": "execute_result"
    },
    {
     "data": {
      "image/png": "[encoded data removed]",
      "text/plain": [
       "<Figure size 432x288 with 1 Axes>"
      ]
     },
     "metadata": {
      "needs_background": "light",
      "tags": []
     },
     "output_type": "display_data"
    }
   ],
   "source": [
    "plt.plot(x_train, y_train1, marker='o',linestyle='')\n",
    "plt.xlabel('X')\n",
    "plt.ylabel('Y')"
   ]
  },
  {
   "cell_type": "markdown",
   "metadata": {
    "id": "p1lpnrwgtzif"
   },
   "source": [
    "#### 2. 모델에 넣기"
   ]
  },
  {
   "cell_type": "code",
   "execution_count": null,
   "metadata": {
    "colab": {
     "base_uri": "https://localhost:8080/"
    },
    "id": "WEe52ADmtyXm",
    "outputId": "fa02e2f2-c461-49da-a7ca-c5c44195c030"
   },
   "outputs": [
    {
     "data": {
      "text/plain": [
       "LinearRegression(copy_X=True, fit_intercept=True, n_jobs=None, normalize=False)"
      ]
     },
     "execution_count": 17,
     "metadata": {
      "tags": []
     },
     "output_type": "execute_result"
    }
   ],
   "source": [
    "lr.fit(x_train,y_train1)"
   ]
  },
  {
   "cell_type": "code",
   "execution_count": null,
   "metadata": {
    "colab": {
     "base_uri": "https://localhost:8080/"
    },
    "id": "PtpNedRAt1kc",
    "outputId": "f93a9367-bfd6-42f5-8f61-eb36e3f45413"
   },
   "outputs": [
    {
     "name": "stdout",
     "output_type": "stream",
     "text": [
      "48.76503970769388\n"
     ]
    }
   ],
   "source": [
    "#평균값 구하기\n",
    "mean=0\n",
    "for i in y_train1:\n",
    "    for j in i:\n",
    "        mean+=j\n",
    "mean= mean/data\n",
    "print(mean)"
   ]
  },
  {
   "cell_type": "code",
   "execution_count": null,
   "metadata": {
    "colab": {
     "base_uri": "https://localhost:8080/",
     "height": 296
    },
    "id": "X1zDbeGDt4ag",
    "outputId": "7caa6ece-3f27-4cc8-ad30-a11dd3d85c57"
   },
   "outputs": [
    {
     "data": {
      "text/plain": [
       "<matplotlib.lines.Line2D at 0x7fa9622d6898>"
      ]
     },
     "execution_count": 19,
     "metadata": {
      "tags": []
     },
     "output_type": "execute_result"
    },
    {
     "data": {
      "image/png": "[encoded data removed]",
      "text/plain": [
       "<Figure size 432x288 with 1 Axes>"
      ]
     },
     "metadata": {
      "needs_background": "light",
      "tags": []
     },
     "output_type": "display_data"
    }
   ],
   "source": [
    "#예측한 값과 평균 그려보기\n",
    "plt.plot(x_train, y_train1,marker='o',linestyle='')\n",
    "plt.xlabel('X')\n",
    "plt.ylabel('Y')\n",
    "plt.plot(x_train,lr.predict(x_train),color = 'red')\n",
    "plt.axhline(y=mean, xmin=0.04, xmax=0.96, color = 'black')"
   ]
  },
  {
   "cell_type": "markdown",
   "metadata": {
    "id": "wb0xEVqyt7mc"
   },
   "source": [
    "함수와 내가 만든 함수 비교하기"
   ]
  },
  {
   "cell_type": "code",
   "execution_count": null,
   "metadata": {
    "colab": {
     "base_uri": "https://localhost:8080/"
    },
    "id": "UeCmmbLht6eO",
    "outputId": "94054540-2490-472d-b12d-6ce04ed78f06"
   },
   "outputs": [
    {
     "data": {
      "text/plain": [
       "0.8627277897868014"
      ]
     },
     "execution_count": 21,
     "metadata": {
      "tags": []
     },
     "output_type": "execute_result"
    }
   ],
   "source": [
    "lr.score(x_train,y_train1)"
   ]
  },
  {
   "cell_type": "code",
   "execution_count": null,
   "metadata": {
    "colab": {
     "base_uri": "https://localhost:8080/"
    },
    "id": "rHPnFQq6t9x3",
    "outputId": "5538a52d-6551-45ea-c287-690ec2d92b76"
   },
   "outputs": [
    {
     "name": "stdout",
     "output_type": "stream",
     "text": [
      "평균 :  48.76503970769388\n",
      "R-squared :  0.8627277897868013\n"
     ]
    }
   ],
   "source": [
    "myRsq(x_train, y_train1, LinearRegression())"
   ]
  },
  {
   "cell_type": "markdown",
   "metadata": {
    "id": "sM30KEyQuBTg"
   },
   "source": [
    "### 데이터가 선형모델에 부적합한 경우"
   ]
  },
  {
   "cell_type": "code",
   "execution_count": null,
   "metadata": {
    "colab": {
     "base_uri": "https://localhost:8080/"
    },
    "id": "GM_unJmKuAC-",
    "outputId": "d1d5ea34-795d-4bff-8ac8-8a5be8e6b1fe"
   },
   "outputs": [
    {
     "data": {
      "text/plain": [
       "(100, 1)"
      ]
     },
     "execution_count": 23,
     "metadata": {
      "tags": []
     },
     "output_type": "execute_result"
    }
   ],
   "source": [
    "y_train2=[]\n",
    "for i in range(1,data+1): #y_train에 노이즈를 만들어서 넣기\n",
    "    y_train2.append([i+random.uniform(-400, 400)])#난수발생시켜서 노이즈 만들기\n",
    "\n",
    "y_train2=np.array(y_train2)\n",
    "y_train2.shape"
   ]
  },
  {
   "cell_type": "code",
   "execution_count": null,
   "metadata": {
    "colab": {
     "base_uri": "https://localhost:8080/",
     "height": 296
    },
    "id": "AlzM7EYUt_Xk",
    "outputId": "27d75b74-f964-4e1f-f792-71f51f346fda"
   },
   "outputs": [
    {
     "data": {
      "text/plain": [
       "Text(0, 0.5, 'Y')"
      ]
     },
     "execution_count": 24,
     "metadata": {
      "tags": []
     },
     "output_type": "execute_result"
    },
    {
     "data": {
      "image/png": "[encoded data removed]",
      "text/plain": [
       "<Figure size 432x288 with 1 Axes>"
      ]
     },
     "metadata": {
      "needs_background": "light",
      "tags": []
     },
     "output_type": "display_data"
    }
   ],
   "source": [
    "plt.plot(x_train, y_train2, marker='o',linestyle='')\n",
    "plt.xlabel('X')\n",
    "plt.ylabel('Y')"
   ]
  },
  {
   "cell_type": "code",
   "execution_count": null,
   "metadata": {
    "colab": {
     "base_uri": "https://localhost:8080/"
    },
    "id": "uF_09-5zuGOE",
    "outputId": "24a8cacd-ca87-4c75-83a5-3d90f251b932"
   },
   "outputs": [
    {
     "name": "stdout",
     "output_type": "stream",
     "text": [
      "57.91303712329747\n"
     ]
    }
   ],
   "source": [
    "mean=0\n",
    "for i in y_train2:\n",
    "    for j in i:\n",
    "        mean+=j\n",
    "mean= mean/data\n",
    "print(mean)"
   ]
  },
  {
   "cell_type": "code",
   "execution_count": null,
   "metadata": {
    "colab": {
     "base_uri": "https://localhost:8080/"
    },
    "id": "uiBJn3T-uHZj",
    "outputId": "e19075c3-941b-4b96-ba8b-cf08a8eb70d2"
   },
   "outputs": [
    {
     "data": {
      "text/plain": [
       "LinearRegression(copy_X=True, fit_intercept=True, n_jobs=None, normalize=False)"
      ]
     },
     "execution_count": 26,
     "metadata": {
      "tags": []
     },
     "output_type": "execute_result"
    }
   ],
   "source": [
    "lr.fit(x_train,y_train2)"
   ]
  },
  {
   "cell_type": "code",
   "execution_count": null,
   "metadata": {
    "colab": {
     "base_uri": "https://localhost:8080/",
     "height": 296
    },
    "id": "xzdpWETYuIm4",
    "outputId": "2d8f740e-8816-4339-c206-aa7af9261383"
   },
   "outputs": [
    {
     "data": {
      "text/plain": [
       "<matplotlib.lines.Line2D at 0x7fa962230ef0>"
      ]
     },
     "execution_count": 27,
     "metadata": {
      "tags": []
     },
     "output_type": "execute_result"
    },
    {
     "data": {
      "image/png": "[encoded data removed]",
      "text/plain": [
       "<Figure size 432x288 with 1 Axes>"
      ]
     },
     "metadata": {
      "needs_background": "light",
      "tags": []
     },
     "output_type": "display_data"
    }
   ],
   "source": [
    "plt.plot(x_train, y_train2,marker='o',linestyle='')\n",
    "plt.xlabel('X')\n",
    "plt.ylabel('Y')\n",
    "plt.plot(x_train,lr.predict(x_train),color = 'red')\n",
    "plt.axhline(y=mean, xmin=0.04, xmax=0.96, color = 'black')"
   ]
  },
  {
   "cell_type": "code",
   "execution_count": null,
   "metadata": {
    "colab": {
     "base_uri": "https://localhost:8080/"
    },
    "id": "52EaiJ8QuJea",
    "outputId": "4a7c9ab2-ffa4-4479-cb15-0cd44a42fd28"
   },
   "outputs": [
    {
     "data": {
      "text/plain": [
       "0.058732945379173285"
      ]
     },
     "execution_count": 28,
     "metadata": {
      "tags": []
     },
     "output_type": "execute_result"
    }
   ],
   "source": [
    "lr.score(x_train,y_train2)"
   ]
  },
  {
   "cell_type": "code",
   "execution_count": null,
   "metadata": {
    "colab": {
     "base_uri": "https://localhost:8080/"
    },
    "id": "-t70QiJ2uKw6",
    "outputId": "bb3f3383-bc8d-4d77-b48b-664b8625190f"
   },
   "outputs": [
    {
     "name": "stdout",
     "output_type": "stream",
     "text": [
      "평균 :  57.91303712329747\n",
      "R-squared :  0.05873294537917273\n"
     ]
    }
   ],
   "source": [
    "myRsq(x_train, y_train2, LinearRegression())"
   ]
  }
 ],
 "metadata": {
  "colab": {
   "collapsed_sections": [],
   "name": "01_linear_regression_using_tensorflow_explanation.ipynb",
   "provenance": []
  },
  "kernelspec": {
   "display_name": "Python 3",
   "language": "python",
   "name": "python3"
  },
  "language_info": {
   "codemirror_mode": {
    "name": "ipython",
    "version": 3
   },
   "file_extension": ".py",
   "mimetype": "text/x-python",
   "name": "python",
   "nbconvert_exporter": "python",
   "pygments_lexer": "ipython3",
   "version": "3.6.9"
  }
 },
 "nbformat": 4,
 "nbformat_minor": 1
}
