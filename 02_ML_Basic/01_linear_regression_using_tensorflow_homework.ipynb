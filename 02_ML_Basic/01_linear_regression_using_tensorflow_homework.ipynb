{
 "cells": [
  {
   "cell_type": "markdown",
   "metadata": {
    "id": "n7F-GbtcVx3z"
   },
   "source": [
    "Linear regression을 학습하며, 기계학습의 원리 및 TensorFlow를 익히는 notebook입니다. "
   ]
  },
  {
   "cell_type": "markdown",
   "metadata": {
    "id": "PFhHtOSDV7on"
   },
   "source": [
    "**라이브러리 Import 하기**"
   ]
  },
  {
   "cell_type": "code",
   "execution_count": 1,
   "metadata": {
    "colab": {
     "base_uri": "https://localhost:8080/",
     "height": 90
    },
    "executionInfo": {
     "elapsed": 2793,
     "status": "ok",
     "timestamp": 1601277745138,
     "user": {
      "displayName": "전영은",
      "photoUrl": "",
      "userId": "13133228027442839920"
     },
     "user_tz": -540
    },
    "id": "pngi6rn7WGDq",
    "outputId": "ed63ce95-69fe-4a52-fbb6-cd65d0ff9373"
   },
   "outputs": [
    {
     "name": "stdout",
     "output_type": "stream",
     "text": [
      "WARNING:tensorflow:From c:\\users\\전영은\\appdata\\local\\programs\\python\\python38\\lib\\site-packages\\tensorflow\\python\\compat\\v2_compat.py:96: disable_resource_variables (from tensorflow.python.ops.variable_scope) is deprecated and will be removed in a future version.\n",
      "Instructions for updating:\n",
      "non-resource variables are not supported in the long term\n"
     ]
    }
   ],
   "source": [
    "# import tensorflow as tf\n",
    "import tensorflow.compat.v1 as tf\n",
    "tf.disable_v2_behavior()\n",
    "\n",
    "import numpy as np\n",
    "import matplotlib.pyplot as plt"
   ]
  },
  {
   "cell_type": "markdown",
   "metadata": {
    "id": "opaxGeGrWTm5"
   },
   "source": [
    "**X and Y data (given)**"
   ]
  },
  {
   "cell_type": "code",
   "execution_count": 4,
   "metadata": {
    "executionInfo": {
     "elapsed": 1116,
     "status": "ok",
     "timestamp": 1601277751706,
     "user": {
      "displayName": "전영은",
      "photoUrl": "",
      "userId": "13133228027442839920"
     },
     "user_tz": -540
    },
    "id": "Mj_anb05WRLx"
   },
   "outputs": [],
   "source": [
    "x_train = [1, 2, 3, 4, 5]\n",
    "# y_train = [2, 4, 6, 8, 10]\n",
    "\n",
    "y_train = [3, 5, 7, 9, 11] # y = 2x + 1, w=2, b=1이 나와야 함\n",
    "\n",
    "signal_length = len(x_train)\n",
    "y_noise = np.random.normal(0,1, signal_length)\n",
    "\n",
    "y_train = y_train + y_noise\n",
    "\n",
    "# y_train = [2+0.1, 4-0.3, 6+0.15]  # 약간의 noise 추가 \n",
    "\n",
    "# y_train = [2, 4, 6]   # x_train에 2배를 곱해서 생성 \n",
    "# y_train = [3, 5, 7]"
   ]
  },
  {
   "cell_type": "code",
   "execution_count": 5,
   "metadata": {
    "colab": {
     "base_uri": "https://localhost:8080/",
     "height": 269
    },
    "executionInfo": {
     "elapsed": 1078,
     "status": "ok",
     "timestamp": 1601277754963,
     "user": {
      "displayName": "전영은",
      "photoUrl": "",
      "userId": "13133228027442839920"
     },
     "user_tz": -540
    },
    "id": "61_pqrZ1hduy",
    "outputId": "0b40de29-9039-4c77-befc-5c5a0c11a74d"
   },
   "outputs": [
    {
     "data": {
      "image/png": "[encoded data removed]",
      "text/plain": [
       "<Figure size 432x288 with 1 Axes>"
      ]
     },
     "metadata": {
      "needs_background": "light"
     },
     "output_type": "display_data"
    }
   ],
   "source": [
    "plt.plot(x_train, y_train,'.-')\n",
    "plt.grid()"
   ]
  },
  {
   "cell_type": "markdown",
   "metadata": {
    "id": "iTmXW_SNWpxL"
   },
   "source": [
    "**Initialization**"
   ]
  },
  {
   "cell_type": "code",
   "execution_count": 6,
   "metadata": {
    "executionInfo": {
     "elapsed": 1068,
     "status": "ok",
     "timestamp": 1601277762088,
     "user": {
      "displayName": "전영은",
      "photoUrl": "",
      "userId": "13133228027442839920"
     },
     "user_tz": -540
    },
    "id": "ymtjtZQqmvKu"
   },
   "outputs": [],
   "source": [
    "useRandom = False"
   ]
  },
  {
   "cell_type": "code",
   "execution_count": 7,
   "metadata": {
    "executionInfo": {
     "elapsed": 1172,
     "status": "ok",
     "timestamp": 1601277764326,
     "user": {
      "displayName": "전영은",
      "photoUrl": "",
      "userId": "13133228027442839920"
     },
     "user_tz": -540
    },
    "id": "_m6_wSnzWn8-"
   },
   "outputs": [],
   "source": [
    "if useRandom:\n",
    "    W = tf.Variable(tf.random_normal([1]), name='weight')\n",
    "    b = tf.Variable(tf.random_normal([1]), name = 'bias')\n",
    "else:\n",
    "    w0 = 7.0;\n",
    "    b0 = 5.0;\n",
    "\n",
    "W = tf.Variable(w0*tf.ones([1]), name='weight')\n",
    "b = tf.Variable(b0*tf.ones([1]), name='bias')"
   ]
  },
  {
   "cell_type": "markdown",
   "metadata": {
    "id": "f41DqzB1XZpx"
   },
   "source": [
    "**Our hypothesis XW+b**\n",
    "\n",
    "$$ H(x) = Wx + b$$"
   ]
  },
  {
   "cell_type": "code",
   "execution_count": 8,
   "metadata": {
    "executionInfo": {
     "elapsed": 2303,
     "status": "ok",
     "timestamp": 1601277767765,
     "user": {
      "displayName": "전영은",
      "photoUrl": "",
      "userId": "13133228027442839920"
     },
     "user_tz": -540
    },
    "id": "cRPZ2T9GXYWf"
   },
   "outputs": [],
   "source": [
    "hypothesis = x_train * W + b"
   ]
  },
  {
   "cell_type": "markdown",
   "metadata": {
    "id": "xTN__AtwXqUG"
   },
   "source": [
    "**cost/loss function 정의하기**\n",
    "\n",
    "\n",
    "\n",
    "*   loss of one training example :\n",
    "$$loss = \\mathcal{L}(\\hat{y}, y) = (\\hat y^{(i)} - y^{(i)})^2 $$"
   ]
  },
  {
   "cell_type": "code",
   "execution_count": 9,
   "metadata": {
    "executionInfo": {
     "elapsed": 1642,
     "status": "ok",
     "timestamp": 1601277768427,
     "user": {
      "displayName": "전영은",
      "photoUrl": "",
      "userId": "13133228027442839920"
     },
     "user_tz": -540
    },
    "id": "D6vBZRMRXoZz"
   },
   "outputs": [],
   "source": [
    "loss = tf.reduce_mean(tf.square(hypothesis - y_train))"
   ]
  },
  {
   "cell_type": "markdown",
   "metadata": {
    "id": "V_yfaahLYO6H"
   },
   "source": [
    "**Optimizer**"
   ]
  },
  {
   "cell_type": "code",
   "execution_count": 10,
   "metadata": {
    "executionInfo": {
     "elapsed": 899,
     "status": "ok",
     "timestamp": 1601277770548,
     "user": {
      "displayName": "전영은",
      "photoUrl": "",
      "userId": "13133228027442839920"
     },
     "user_tz": -540
    },
    "id": "07exMfHJYNrO"
   },
   "outputs": [],
   "source": [
    "optimizer = tf.train.GradientDescentOptimizer(learning_rate=0.01)\n",
    "train = optimizer.minimize(loss)"
   ]
  },
  {
   "cell_type": "markdown",
   "metadata": {
    "id": "aqVdF6A5Ycjm"
   },
   "source": [
    "**Launch the graph in a session**"
   ]
  },
  {
   "cell_type": "code",
   "execution_count": 11,
   "metadata": {
    "executionInfo": {
     "elapsed": 1812,
     "status": "ok",
     "timestamp": 1601277773955,
     "user": {
      "displayName": "전영은",
      "photoUrl": "",
      "userId": "13133228027442839920"
     },
     "user_tz": -540
    },
    "id": "nXcb8WcRYbrE"
   },
   "outputs": [],
   "source": [
    "sess = tf.Session()"
   ]
  },
  {
   "cell_type": "markdown",
   "metadata": {
    "id": "ONRq4PHdYiv5"
   },
   "source": [
    "**Initalizes global variables in the graph.**"
   ]
  },
  {
   "cell_type": "code",
   "execution_count": 12,
   "metadata": {
    "executionInfo": {
     "elapsed": 1197,
     "status": "ok",
     "timestamp": 1601277774456,
     "user": {
      "displayName": "전영은",
      "photoUrl": "",
      "userId": "13133228027442839920"
     },
     "user_tz": -540
    },
    "id": "B4c223yWYiDM"
   },
   "outputs": [],
   "source": [
    "sess.run(tf.global_variables_initializer())"
   ]
  },
  {
   "cell_type": "code",
   "execution_count": 13,
   "metadata": {
    "colab": {
     "base_uri": "https://localhost:8080/",
     "height": 738
    },
    "executionInfo": {
     "elapsed": 3098,
     "status": "ok",
     "timestamp": 1601277820774,
     "user": {
      "displayName": "전영은",
      "photoUrl": "",
      "userId": "13133228027442839920"
     },
     "user_tz": -540
    },
    "id": "LSXFcze2Yr_K",
    "outputId": "56014660-39a5-44d0-bc7f-2c139073fb22"
   },
   "outputs": [
    {
     "name": "stdout",
     "output_type": "stream",
     "text": [
      "0 \t 235.45505 \t 5.6767044 \t 4.6215577\n",
      "50 \t 1.6454475 \t 1.5382981 \t 2.9283702\n",
      "100 \t 1.2491834 \t 1.6570688 \t 2.499548\n",
      "150 \t 0.96675825 \t 1.757343 \t 2.1375256\n",
      "200 \t 0.7654692 \t 1.841997 \t 1.8318977\n",
      "250 \t 0.62200713 \t 1.9134644 \t 1.5738783\n",
      "300 \t 0.5197584 \t 1.9737989 \t 1.3560516\n",
      "350 \t 0.4468841 \t 2.024735 \t 1.1721561\n",
      "400 \t 0.3949453 \t 2.0677366 \t 1.0169066\n",
      "450 \t 0.3579276 \t 2.1040394 \t 0.8858413\n",
      "500 \t 0.33154455 \t 2.1346874 \t 0.77519256\n",
      "550 \t 0.31274068 \t 2.1605613 \t 0.6817799\n",
      "600 \t 0.29933888 \t 2.1824045 \t 0.6029187\n",
      "650 \t 0.28978732 \t 2.2008455 \t 0.5363419\n",
      "700 \t 0.28297952 \t 2.2164135 \t 0.48013598\n",
      "750 \t 0.27812758 \t 2.2295566 \t 0.43268538\n",
      "800 \t 0.27466944 \t 2.2406523 \t 0.39262655\n",
      "850 \t 0.27220473 \t 2.2500196 \t 0.35880733\n",
      "900 \t 0.27044827 \t 2.2579277 \t 0.3302565\n",
      "950 \t 0.26919633 \t 2.264604 \t 0.30615288\n",
      "1000 \t 0.26830417 \t 2.2702403 \t 0.28580412\n",
      "1050 \t 0.2676681 \t 2.2749984 \t 0.2686254\n",
      "1100 \t 0.26721478 \t 2.2790155 \t 0.25412259\n",
      "1150 \t 0.26689166 \t 2.282407 \t 0.24187854\n",
      "1200 \t 0.26666147 \t 2.28527 \t 0.23154198\n",
      "1250 \t 0.26649746 \t 2.287687 \t 0.22281572\n",
      "1300 \t 0.26638046 \t 2.2897274 \t 0.21544872\n",
      "1350 \t 0.26629716 \t 2.2914503 \t 0.20922938\n",
      "1400 \t 0.26623774 \t 2.2929046 \t 0.20397872\n",
      "1450 \t 0.26619536 \t 2.2941325 \t 0.1995461\n",
      "1500 \t 0.26616523 \t 2.2951689 \t 0.1958039\n",
      "1550 \t 0.26614347 \t 2.2960439 \t 0.19264472\n",
      "1600 \t 0.26612833 \t 2.2967825 \t 0.18997781\n",
      "1650 \t 0.2661174 \t 2.2974062 \t 0.18772626\n",
      "1700 \t 0.26610956 \t 2.2979329 \t 0.18582548\n",
      "1750 \t 0.26610413 \t 2.298377 \t 0.18422072\n",
      "1800 \t 0.2661 \t 2.2987523 \t 0.18286614\n",
      "1850 \t 0.26609737 \t 2.2990692 \t 0.1817226\n",
      "1900 \t 0.26609516 \t 2.2993367 \t 0.18075714\n",
      "1950 \t 0.2660939 \t 2.2995622 \t 0.17994207\n",
      "2000 \t 0.26609284 \t 2.299753 \t 0.17925407\n"
     ]
    }
   ],
   "source": [
    "nb_epoch = 2001\n",
    "vloss = [] # empty list\n",
    "vb = [] # empty list\n",
    "vw = [] # empty list\n",
    "\n",
    "for step in range(nb_epoch):\n",
    "    sess.run(train)\n",
    "    loss1 = sess.run(loss)\n",
    "    vloss.append(loss1)\n",
    "    w1 = sess.run(W)\n",
    "    vw.append(w1)\n",
    "    b1 = sess.run(b)\n",
    "    vb.append(b1)\n",
    "    \n",
    "    if step % 50 == 0: # 50번마다\n",
    "        w1 = sess.run(W)[0] # 기울기\n",
    "        b1 = sess.run(b)[0] # bias\n",
    "\n",
    "        print(step, '\\t', loss1, '\\t', w1, '\\t', b1)"
   ]
  },
  {
   "cell_type": "code",
   "execution_count": 14,
   "metadata": {
    "colab": {
     "base_uri": "https://localhost:8080/",
     "height": 297
    },
    "executionInfo": {
     "elapsed": 1111,
     "status": "ok",
     "timestamp": 1601277827360,
     "user": {
      "displayName": "전영은",
      "photoUrl": "",
      "userId": "13133228027442839920"
     },
     "user_tz": -540
    },
    "id": "i4Q91Spmn4Lk",
    "outputId": "e8c70372-fb84-435b-8763-11f33526ed81"
   },
   "outputs": [
    {
     "data": {
      "text/plain": [
       "Text(0, 0.5, 'loss')"
      ]
     },
     "execution_count": 14,
     "metadata": {},
     "output_type": "execute_result"
    },
    {
     "data": {
      "image/png": "[encoded data removed]",
      "text/plain": [
       "<Figure size 432x288 with 1 Axes>"
      ]
     },
     "metadata": {
      "needs_background": "light"
     },
     "output_type": "display_data"
    }
   ],
   "source": [
    "plt.plot(vloss[:20], '.-')\n",
    "plt.xlabel('epoch')\n",
    "plt.ylabel('loss')"
   ]
  },
  {
   "cell_type": "code",
   "execution_count": 15,
   "metadata": {
    "colab": {
     "base_uri": "https://localhost:8080/",
     "height": 297
    },
    "executionInfo": {
     "elapsed": 1127,
     "status": "ok",
     "timestamp": 1601277832265,
     "user": {
      "displayName": "전영은",
      "photoUrl": "",
      "userId": "13133228027442839920"
     },
     "user_tz": -540
    },
    "id": "VutNzbc_oERr",
    "outputId": "3ec83f89-2afc-4c83-e66f-9558ae8ef983"
   },
   "outputs": [
    {
     "data": {
      "text/plain": [
       "Text(0, 0.5, 'Weight')"
      ]
     },
     "execution_count": 15,
     "metadata": {},
     "output_type": "execute_result"
    },
    {
     "data": {
      "image/png": "[encoded data removed]",
      "text/plain": [
       "<Figure size 432x288 with 1 Axes>"
      ]
     },
     "metadata": {
      "needs_background": "light"
     },
     "output_type": "display_data"
    }
   ],
   "source": [
    "# W의 epoch에 따른 변화 그래프 \n",
    "\n",
    "plt.plot(vw[:], '-')\n",
    "plt.xlabel('epoch')\n",
    "plt.ylabel('Weight')"
   ]
  },
  {
   "cell_type": "code",
   "execution_count": 16,
   "metadata": {
    "colab": {
     "base_uri": "https://localhost:8080/",
     "height": 297
    },
    "executionInfo": {
     "elapsed": 1234,
     "status": "ok",
     "timestamp": 1601277855153,
     "user": {
      "displayName": "전영은",
      "photoUrl": "",
      "userId": "13133228027442839920"
     },
     "user_tz": -540
    },
    "id": "CNNggBxNp2PJ",
    "outputId": "faa28cb5-f5a3-4893-812f-8922cc9cdf75"
   },
   "outputs": [
    {
     "data": {
      "text/plain": [
       "Text(0, 0.5, 'Bias')"
      ]
     },
     "execution_count": 16,
     "metadata": {},
     "output_type": "execute_result"
    },
    {
     "data": {
      "image/png": "[encoded data removed]",
      "text/plain": [
       "<Figure size 432x288 with 1 Axes>"
      ]
     },
     "metadata": {
      "needs_background": "light"
     },
     "output_type": "display_data"
    }
   ],
   "source": [
    "# b의 epoch에 따른 변화 그래프 \n",
    "plt.plot(vb[:], '-')\n",
    "plt.xlabel('epoch')\n",
    "plt.ylabel('Bias')"
   ]
  },
  {
   "cell_type": "markdown",
   "metadata": {
    "id": "vwf30MEmZHt8"
   },
   "source": [
    "**학습완료**"
   ]
  },
  {
   "cell_type": "code",
   "execution_count": 17,
   "metadata": {
    "executionInfo": {
     "elapsed": 2204,
     "status": "ok",
     "timestamp": 1601277862159,
     "user": {
      "displayName": "전영은",
      "photoUrl": "",
      "userId": "13133228027442839920"
     },
     "user_tz": -540
    },
    "id": "G1MUM1RWZFbP"
   },
   "outputs": [],
   "source": [
    "w1 = sess.run(W)[0] # 기울기 \n",
    "b1 = sess.run(b)[0] # bias"
   ]
  },
  {
   "cell_type": "markdown",
   "metadata": {
    "id": "tw0KmdYQZSIZ"
   },
   "source": [
    "출력해보기"
   ]
  },
  {
   "cell_type": "code",
   "execution_count": 18,
   "metadata": {
    "colab": {
     "base_uri": "https://localhost:8080/",
     "height": 52
    },
    "executionInfo": {
     "elapsed": 1790,
     "status": "ok",
     "timestamp": 1601277863089,
     "user": {
      "displayName": "전영은",
      "photoUrl": "",
      "userId": "13133228027442839920"
     },
     "user_tz": -540
    },
    "id": "IjFFUbU5ZRNJ",
    "outputId": "dd1c4636-8849-45fd-a540-5aea9a40cec4"
   },
   "outputs": [
    {
     "name": "stdout",
     "output_type": "stream",
     "text": [
      "2.299753 0.17925407\n",
      "y = 2.299753x + 0.17925407\n"
     ]
    }
   ],
   "source": [
    "print(w1, b1)\n",
    "\n",
    "str1 = 'y = ' + str(w1) + 'x + ' + str(b1)\n",
    "print(str1)"
   ]
  },
  {
   "cell_type": "code",
   "execution_count": 19,
   "metadata": {
    "colab": {
     "base_uri": "https://localhost:8080/",
     "height": 517
    },
    "executionInfo": {
     "elapsed": 1926,
     "status": "ok",
     "timestamp": 1601277864550,
     "user": {
      "displayName": "전영은",
      "photoUrl": "",
      "userId": "13133228027442839920"
     },
     "user_tz": -540
    },
    "id": "5OGNCzVrZd_8",
    "outputId": "9290e1d0-9f03-411e-a9c4-6f50447cfa0c"
   },
   "outputs": [
    {
     "data": {
      "text/plain": [
       "Text(0.5, 1.0, 'y = 2.299753x + 0.17925407')"
      ]
     },
     "execution_count": 19,
     "metadata": {},
     "output_type": "execute_result"
    },
    {
     "data": {
      "image/png": "[encoded data removed]",
      "text/plain": [
       "<Figure size 720x576 with 1 Axes>"
      ]
     },
     "metadata": {
      "needs_background": "light"
     },
     "output_type": "display_data"
    }
   ],
   "source": [
    "plt.figure(figsize=(10,8)) \n",
    "plt.plot(x_train, y_train, 'o') # train_data 그리기\n",
    "\n",
    "# 직선 그래프를 그리기 위한 코드\n",
    "# 그래프의 x좌표를 일정 간격으로 설정함 \n",
    "x1 = np.linspace(np.min(x_train)-1, np.max(x_train)+1)\n",
    "y1 = w1*x1 + b1\n",
    "plt.plot(x1, y1)\n",
    "\n",
    "plt.grid() # 격자\n",
    "#plt.axis((np.min(x_train) - 1, np.max(x_train) + 1, np.min(y_train) - 1 , \n",
    "# np.max(y_train) + 1))\n",
    "plt.title(str1)"
   ]
  },
  {
   "cell_type": "markdown",
   "metadata": {},
   "source": [
    "### R-Squared Score"
   ]
  },
  {
   "cell_type": "code",
   "execution_count": 20,
   "metadata": {},
   "outputs": [],
   "source": [
    "from sklearn.metrics import mean_squared_error\n",
    "from sklearn.linear_model import LinearRegression\n",
    "%matplotlib inline"
   ]
  },
  {
   "cell_type": "code",
   "execution_count": 59,
   "metadata": {},
   "outputs": [
    {
     "name": "stdout",
     "output_type": "stream",
     "text": [
      "(5,)\n",
      "(5,)\n"
     ]
    }
   ],
   "source": [
    "x = np.array(x_train)\n",
    "y = np.array(y_train)\n",
    "print(x.shape)\n",
    "print(y.shape)"
   ]
  },
  {
   "cell_type": "code",
   "execution_count": 53,
   "metadata": {},
   "outputs": [
    {
     "name": "stdout",
     "output_type": "stream",
     "text": [
      "[1, 2, 3, 4, 5]\n",
      "[ 2.47849435  4.42979334  7.14252268 10.28255483 11.05604576]\n"
     ]
    }
   ],
   "source": [
    "print(x_train)\n",
    "print(y_train)"
   ]
  },
  {
   "cell_type": "code",
   "execution_count": 68,
   "metadata": {},
   "outputs": [],
   "source": [
    "reg_y = []\n",
    "for i in x_train:\n",
    "    y2 = w1*x_train[i-1] + b1\n",
    "    reg_y.append(y2)   # 예측값 "
   ]
  },
  {
   "cell_type": "code",
   "execution_count": 72,
   "metadata": {},
   "outputs": [
    {
     "name": "stdout",
     "output_type": "stream",
     "text": [
      "[2.4790070205926895, 4.7787599712610245, 7.078512921929359, 9.378265872597694, 11.67801882326603]\n"
     ]
    }
   ],
   "source": [
    "print(reg_y)"
   ]
  },
  {
   "cell_type": "code",
   "execution_count": 30,
   "metadata": {},
   "outputs": [
    {
     "name": "stdout",
     "output_type": "stream",
     "text": [
      "7.077882190789319\n"
     ]
    }
   ],
   "source": [
    "mean = np.mean(y_train)\n",
    "print(mean)"
   ]
  },
  {
   "cell_type": "code",
   "execution_count": 32,
   "metadata": {},
   "outputs": [
    {
     "data": {
      "text/plain": [
       "<matplotlib.lines.Line2D at 0x2896be8d9d0>"
      ]
     },
     "execution_count": 32,
     "metadata": {},
     "output_type": "execute_result"
    },
    {
     "data": {
      "image/png": "[encoded data removed]",
      "text/plain": [
       "<Figure size 576x360 with 1 Axes>"
      ]
     },
     "metadata": {
      "needs_background": "light"
     },
     "output_type": "display_data"
    }
   ],
   "source": [
    "plt.figure(figsize=(8,5)) \n",
    "plt.plot(x_train, y_train, marker='o', linestyle = ' ')  # 실제값\n",
    "plt.plot(x1, y1, color = 'red')  #regression line\n",
    "plt.axhline(y = mean, xmin = 0.04, xmax = 0.96, color = 'black') #mean"
   ]
  },
  {
   "cell_type": "markdown",
   "metadata": {},
   "source": [
    "##### MSE\n",
    "\n",
    "$$ \\frac{(실제값 - 에측값)^2}{데이터수} $$"
   ]
  },
  {
   "cell_type": "code",
   "execution_count": 76,
   "metadata": {},
   "outputs": [
    {
     "name": "stdout",
     "output_type": "stream",
     "text": [
      "0.266092848152131\n"
     ]
    }
   ],
   "source": [
    "# 실제값 = y_train\n",
    "# 예측값 = reg_y\n",
    "# 데이터 수 = 5\n",
    "# avg_MSE = mean_squared_error(y_train, mean)\n",
    "reg_MSE = mean_squared_error(y_train, reg_y)\n",
    "print(mean_squared_error(y_train, reg_y))"
   ]
  },
  {
   "cell_type": "code",
   "execution_count": 82,
   "metadata": {},
   "outputs": [
    {
     "name": "stdout",
     "output_type": "stream",
     "text": [
      "54.266633565673416\n"
     ]
    }
   ],
   "source": [
    "err = 0\n",
    "for i in range(len(x_train)):\n",
    "    err += (y_train[i]-mean)**2\n",
    "    \n",
    "print(err)    "
   ]
  },
  {
   "cell_type": "code",
   "execution_count": 84,
   "metadata": {},
   "outputs": [
    {
     "name": "stdout",
     "output_type": "stream",
     "text": [
      "10.853326713134683\n"
     ]
    }
   ],
   "source": [
    "avg_MSE = err/5\n",
    "print(avg_MSE)"
   ]
  },
  {
   "cell_type": "markdown",
   "metadata": {},
   "source": [
    "##### R-Squared"
   ]
  },
  {
   "cell_type": "code",
   "execution_count": 86,
   "metadata": {},
   "outputs": [
    {
     "name": "stdout",
     "output_type": "stream",
     "text": [
      "R-squared :  0.9754828307315115\n"
     ]
    }
   ],
   "source": [
    "r=1-(reg_MSE/avg_MSE)\n",
    "print(\"R-squared : \", r)    "
   ]
  },
  {
   "cell_type": "code",
   "execution_count": 87,
   "metadata": {
    "scrolled": true
   },
   "outputs": [
    {
     "name": "stdout",
     "output_type": "stream",
     "text": [
      "평균 :  7.077882190789319\n",
      "MSE of regression line :  0.266092848152131\n",
      "MSE of average line :  10.853326713134683\n",
      "R-squared :  0.9754828307315115\n"
     ]
    }
   ],
   "source": [
    "print(\"평균 : \", mean)\n",
    "print(\"MSE of regression line : \",reg_MSE)\n",
    "print(\"MSE of average line : \", avg_MSE)\n",
    "print(\"R-squared : \", r)"
   ]
  },
  {
   "cell_type": "markdown",
   "metadata": {
    "id": "-XZ-ySu-aYg8"
   },
   "source": [
    "### 스스로 해보기"
   ]
  },
  {
   "cell_type": "markdown",
   "metadata": {
    "id": "ML9xeIqyeQaQ"
   },
   "source": [
    "**1번**"
   ]
  },
  {
   "cell_type": "code",
   "execution_count": 88,
   "metadata": {
    "colab": {
     "base_uri": "https://localhost:8080/",
     "height": 265
    },
    "executionInfo": {
     "elapsed": 1012,
     "status": "ok",
     "timestamp": 1601277872701,
     "user": {
      "displayName": "전영은",
      "photoUrl": "",
      "userId": "13133228027442839920"
     },
     "user_tz": -540
    },
    "id": "pLhP3MHxaNYx",
    "outputId": "b6e7a7b0-28ce-4774-927c-d083d519d21e"
   },
   "outputs": [
    {
     "data": {
      "image/png": "[encoded data removed]",
      "text/plain": [
       "<Figure size 432x288 with 1 Axes>"
      ]
     },
     "metadata": {
      "needs_background": "light"
     },
     "output_type": "display_data"
    }
   ],
   "source": [
    "# X and Y data\n",
    "x_train = [1, 2, 3, 4, 5, 6, 7, 8, 9, 10]\n",
    "\n",
    "y_train = [-2, 1, 4, 7, 10, 13, 16, 19, 22, 25]  # y = 3x - 5\n",
    "\n",
    "signal_length = len(x_train)\n",
    "y_noise = np.random.normal(0,1, signal_length)\n",
    "\n",
    "y_train = y_train + y_noise\n",
    "\n",
    "plt.plot(x_train, y_train,'.-')\n",
    "plt.grid()"
   ]
  },
  {
   "cell_type": "code",
   "execution_count": 89,
   "metadata": {
    "executionInfo": {
     "elapsed": 1129,
     "status": "ok",
     "timestamp": 1601277878494,
     "user": {
      "displayName": "전영은",
      "photoUrl": "",
      "userId": "13133228027442839920"
     },
     "user_tz": -540
    },
    "id": "L3jmx-_ubiY8"
   },
   "outputs": [],
   "source": [
    "# initialization\n",
    "useRandom = False\n",
    "\n",
    "if useRandom:\n",
    "    W = tf.Variable(tf.random_normal([1]), name='weight')\n",
    "    b = tf.Variable(tf.random_normal([1]), name = 'bias')\n",
    "else:\n",
    "    w0 = 9.0;\n",
    "    b0 = 7.0;\n",
    "\n",
    "    W = tf.Variable(w0*tf.ones([1]), name='weight')\n",
    "    b = tf.Variable(b0*tf.ones([1]), name='bias')"
   ]
  },
  {
   "cell_type": "code",
   "execution_count": 90,
   "metadata": {
    "executionInfo": {
     "elapsed": 1649,
     "status": "ok",
     "timestamp": 1601277898771,
     "user": {
      "displayName": "전영은",
      "photoUrl": "",
      "userId": "13133228027442839920"
     },
     "user_tz": -540
    },
    "id": "qgdVp1CDbfWG"
   },
   "outputs": [],
   "source": [
    "# Our hypothesis XW+b\n",
    "hypothesis = x_train * W + b\n",
    "\n",
    "# loss function 정의하기 \n",
    "loss = tf.reduce_mean(tf.square(hypothesis - y_train))\n",
    "\n",
    "# Optimizer\n",
    "optimizer = tf.train.GradientDescentOptimizer(learning_rate=0.01)\n",
    "train = optimizer.minimize(loss)"
   ]
  },
  {
   "cell_type": "code",
   "execution_count": 91,
   "metadata": {
    "executionInfo": {
     "elapsed": 994,
     "status": "ok",
     "timestamp": 1601277899253,
     "user": {
      "displayName": "전영은",
      "photoUrl": "",
      "userId": "13133228027442839920"
     },
     "user_tz": -540
    },
    "id": "Sl7h24trb60P"
   },
   "outputs": [],
   "source": [
    "# Launch the graph in a session\n",
    "sess = tf.Session()\n",
    "\n",
    "# Initializes global variables in the graph \n",
    "sess.run(tf.global_variables_initializer())"
   ]
  },
  {
   "cell_type": "code",
   "execution_count": 92,
   "metadata": {
    "colab": {
     "base_uri": "https://localhost:8080/",
     "height": 386
    },
    "executionInfo": {
     "elapsed": 2891,
     "status": "ok",
     "timestamp": 1601277952436,
     "user": {
      "displayName": "전영은",
      "photoUrl": "",
      "userId": "13133228027442839920"
     },
     "user_tz": -540
    },
    "id": "IttlWwCVcIzw",
    "outputId": "57279cc9-32cf-457b-d6a2-62927f242437"
   },
   "outputs": [
    {
     "name": "stdout",
     "output_type": "stream",
     "text": [
      "0 \t 129.75056 \t 3.063623 \t 6.101374\n",
      "100 \t 10.637334 \t 1.9700912 \t 2.2038956\n",
      "200 \t 4.655111 \t 2.3156788 \t -0.20202488\n",
      "300 \t 2.0768476 \t 2.542556 \t -1.7815026\n",
      "400 \t 0.9656501 \t 2.6915 \t -2.8184237\n",
      "500 \t 0.48673686 \t 2.7892811 \t -3.4991593\n",
      "600 \t 0.28033176 \t 2.8534741 \t -3.94606\n",
      "700 \t 0.19137384 \t 2.8956163 \t -4.2394466\n",
      "800 \t 0.15303428 \t 2.9232826 \t -4.432054\n",
      "900 \t 0.13651036 \t 2.9414456 \t -4.5585012\n",
      "1000 \t 0.12938865 \t 2.9533696 \t -4.641514\n",
      "1100 \t 0.12631908 \t 2.9611976 \t -4.6960115\n",
      "1200 \t 0.12499621 \t 2.9663367 \t -4.7317896\n",
      "1300 \t 0.12442617 \t 2.9697106 \t -4.755278\n",
      "1400 \t 0.12418039 \t 2.9719255 \t -4.7706966\n",
      "1500 \t 0.12407471 \t 2.9733796 \t -4.780821\n",
      "1600 \t 0.12402879 \t 2.9743342 \t -4.787466\n",
      "1700 \t 0.12400937 \t 2.9749608 \t -4.791829\n",
      "1800 \t 0.1240008 \t 2.975372 \t -4.7946916\n",
      "1900 \t 0.123996995 \t 2.975642 \t -4.796571\n",
      "2000 \t 0.12399572 \t 2.975819 \t -4.797804\n"
     ]
    }
   ],
   "source": [
    "nb_epoch = 2001\n",
    "vloss = [] # empty list\n",
    "vb = [] # empty list\n",
    "vw = [] # empty list\n",
    "\n",
    "for step in range(nb_epoch):\n",
    "    sess.run(train)\n",
    "    loss1 = sess.run(loss)\n",
    "    vloss.append(loss1)\n",
    "    w1 = sess.run(W)\n",
    "    vw.append(w1)\n",
    "    b1 = sess.run(b)\n",
    "    vb.append(b1)\n",
    "    \n",
    "    if step % 100 == 0: # 100번마다\n",
    "        w1 = sess.run(W)[0] # 기울기\n",
    "        b1 = sess.run(b)[0] # bias\n",
    "        \n",
    "        print(step, '\\t', loss1, '\\t', w1, '\\t', b1)"
   ]
  },
  {
   "cell_type": "code",
   "execution_count": 93,
   "metadata": {
    "colab": {
     "base_uri": "https://localhost:8080/",
     "height": 297
    },
    "executionInfo": {
     "elapsed": 1175,
     "status": "ok",
     "timestamp": 1601277977571,
     "user": {
      "displayName": "전영은",
      "photoUrl": "",
      "userId": "13133228027442839920"
     },
     "user_tz": -540
    },
    "id": "upcVT1l1cY3y",
    "outputId": "023f9ffe-9b47-4d84-a91c-540c40f60a62"
   },
   "outputs": [
    {
     "data": {
      "text/plain": [
       "Text(0, 0.5, 'loss')"
      ]
     },
     "execution_count": 93,
     "metadata": {},
     "output_type": "execute_result"
    },
    {
     "data": {
      "image/png": "[encoded data removed]",
      "text/plain": [
       "<Figure size 432x288 with 1 Axes>"
      ]
     },
     "metadata": {
      "needs_background": "light"
     },
     "output_type": "display_data"
    }
   ],
   "source": [
    "plt.plot(vloss[:40], '.-')\n",
    "plt.xlabel('epoch')\n",
    "plt.ylabel('loss')"
   ]
  },
  {
   "cell_type": "code",
   "execution_count": 94,
   "metadata": {
    "colab": {
     "base_uri": "https://localhost:8080/",
     "height": 297
    },
    "executionInfo": {
     "elapsed": 1127,
     "status": "ok",
     "timestamp": 1601277998362,
     "user": {
      "displayName": "전영은",
      "photoUrl": "",
      "userId": "13133228027442839920"
     },
     "user_tz": -540
    },
    "id": "yGf_TS9ice2_",
    "outputId": "5f291208-1dcf-4392-b849-128fea0fba40"
   },
   "outputs": [
    {
     "data": {
      "text/plain": [
       "Text(0, 0.5, 'Weight')"
      ]
     },
     "execution_count": 94,
     "metadata": {},
     "output_type": "execute_result"
    },
    {
     "data": {
      "image/png": "[encoded data removed]",
      "text/plain": [
       "<Figure size 432x288 with 1 Axes>"
      ]
     },
     "metadata": {
      "needs_background": "light"
     },
     "output_type": "display_data"
    }
   ],
   "source": [
    "# W의 epoch에 따른 변화 그래프 \n",
    "plt.plot(vw[:], '-')\n",
    "plt.xlabel('epoch')\n",
    "plt.ylabel('Weight')"
   ]
  },
  {
   "cell_type": "code",
   "execution_count": 95,
   "metadata": {
    "colab": {
     "base_uri": "https://localhost:8080/",
     "height": 297
    },
    "executionInfo": {
     "elapsed": 1142,
     "status": "ok",
     "timestamp": 1601278010489,
     "user": {
      "displayName": "전영은",
      "photoUrl": "",
      "userId": "13133228027442839920"
     },
     "user_tz": -540
    },
    "id": "hGHT9g6EcjzJ",
    "outputId": "66333c50-c129-4493-bc70-49620257b65a"
   },
   "outputs": [
    {
     "data": {
      "text/plain": [
       "Text(0, 0.5, 'Bias')"
      ]
     },
     "execution_count": 95,
     "metadata": {},
     "output_type": "execute_result"
    },
    {
     "data": {
      "image/png": "[encoded data removed]",
      "text/plain": [
       "<Figure size 432x288 with 1 Axes>"
      ]
     },
     "metadata": {
      "needs_background": "light"
     },
     "output_type": "display_data"
    }
   ],
   "source": [
    "# b의 epoch에 따른 변화 그래프 \n",
    "plt.plot(vb[:], '-')\n",
    "plt.xlabel('epoch')\n",
    "plt.ylabel('Bias')"
   ]
  },
  {
   "cell_type": "code",
   "execution_count": 96,
   "metadata": {
    "executionInfo": {
     "elapsed": 1437,
     "status": "ok",
     "timestamp": 1601278019250,
     "user": {
      "displayName": "전영은",
      "photoUrl": "",
      "userId": "13133228027442839920"
     },
     "user_tz": -540
    },
    "id": "IBvD3Wh0cbL5"
   },
   "outputs": [],
   "source": [
    "# 학습완료\n",
    "w1 = sess.run(W)[0] # 기울기 \n",
    "b1 = sess.run(b)[0] # bias"
   ]
  },
  {
   "cell_type": "code",
   "execution_count": 97,
   "metadata": {
    "colab": {
     "base_uri": "https://localhost:8080/",
     "height": 52
    },
    "executionInfo": {
     "elapsed": 847,
     "status": "ok",
     "timestamp": 1601278019665,
     "user": {
      "displayName": "전영은",
      "photoUrl": "",
      "userId": "13133228027442839920"
     },
     "user_tz": -540
    },
    "id": "LtEA6obZcpAJ",
    "outputId": "044850da-1c48-4704-cf43-678fc4beb663"
   },
   "outputs": [
    {
     "name": "stdout",
     "output_type": "stream",
     "text": [
      "2.975819 -4.797804\n",
      "y = 2.975819x + -4.797804\n"
     ]
    }
   ],
   "source": [
    "# 출력해보기\n",
    "print(w1, b1)\n",
    "\n",
    "str1 = 'y = ' + str(w1) + 'x + ' + str(b1)\n",
    "print(str1)"
   ]
  },
  {
   "cell_type": "code",
   "execution_count": 98,
   "metadata": {
    "colab": {
     "base_uri": "https://localhost:8080/",
     "height": 354
    },
    "executionInfo": {
     "elapsed": 858,
     "status": "ok",
     "timestamp": 1601278023589,
     "user": {
      "displayName": "전영은",
      "photoUrl": "",
      "userId": "13133228027442839920"
     },
     "user_tz": -540
    },
    "id": "0YY64SNdctnG",
    "outputId": "d93cd5dc-d8e7-4aa3-aa8c-147f99d7414f"
   },
   "outputs": [
    {
     "data": {
      "text/plain": [
       "Text(0.5, 1.0, 'y = 2.975819x + -4.797804')"
      ]
     },
     "execution_count": 98,
     "metadata": {},
     "output_type": "execute_result"
    },
    {
     "data": {
      "image/png": "[encoded data removed]",
      "text/plain": [
       "<Figure size 576x360 with 1 Axes>"
      ]
     },
     "metadata": {
      "needs_background": "light"
     },
     "output_type": "display_data"
    }
   ],
   "source": [
    "plt.figure(figsize=(8,5)) \n",
    "plt.plot(x_train, y_train, 'o') # train_data 그리기\n",
    "\n",
    "# 직선 그래프를 그리기 위한 코드\n",
    "# 그래프의 x좌표를 일정 간격으로 설정함 \n",
    "x1 = np.linspace(np.min(x_train)-1, np.max(x_train)+1)\n",
    "y1 = w1*x1 + b1\n",
    "plt.plot(x1, y1)\n",
    "\n",
    "plt.grid() # 격자\n",
    "# plt.axis((np.min(x_train) - 1, np.max(x_train) + 1, np.min(y_train) - 1,\n",
    "# np.max(y_train) + 1))\n",
    "plt.title(str1)"
   ]
  },
  {
   "cell_type": "markdown",
   "metadata": {},
   "source": [
    "### R-Squared Score"
   ]
  },
  {
   "cell_type": "code",
   "execution_count": 99,
   "metadata": {},
   "outputs": [
    {
     "name": "stdout",
     "output_type": "stream",
     "text": [
      "(10,)\n",
      "(10,)\n"
     ]
    }
   ],
   "source": [
    "x = np.array(x_train)\n",
    "y = np.array(y_train)\n",
    "print(x.shape)\n",
    "print(y.shape)"
   ]
  },
  {
   "cell_type": "code",
   "execution_count": 100,
   "metadata": {},
   "outputs": [
    {
     "name": "stdout",
     "output_type": "stream",
     "text": [
      "[1, 2, 3, 4, 5, 6, 7, 8, 9, 10]\n",
      "[-1.71177622  0.88196089  4.71319227  6.70000699 10.46833532 12.47784596\n",
      " 16.07446965 18.74092171 22.25832225 25.08378112]\n"
     ]
    }
   ],
   "source": [
    "print(x_train)\n",
    "print(y_train)"
   ]
  },
  {
   "cell_type": "code",
   "execution_count": 101,
   "metadata": {},
   "outputs": [
    {
     "name": "stdout",
     "output_type": "stream",
     "text": [
      "[-1.8219847679138184, 1.153834342956543, 4.129653453826904, 7.105472564697266, 10.081291675567627, 13.057110786437988, 16.03292989730835, 19.00874900817871, 21.984568119049072, 24.960387229919434]\n"
     ]
    }
   ],
   "source": [
    "reg_y = []\n",
    "for i in x_train:\n",
    "    y2 = w1*x_train[i-1] + b1\n",
    "    reg_y.append(y2)   # 예측값 \n",
    "\n",
    "print(reg_y)"
   ]
  },
  {
   "cell_type": "code",
   "execution_count": 102,
   "metadata": {},
   "outputs": [
    {
     "name": "stdout",
     "output_type": "stream",
     "text": [
      "11.568705993902556\n"
     ]
    }
   ],
   "source": [
    "mean = np.mean(y_train)\n",
    "print(mean)"
   ]
  },
  {
   "cell_type": "code",
   "execution_count": 103,
   "metadata": {},
   "outputs": [
    {
     "data": {
      "text/plain": [
       "<matplotlib.lines.Line2D at 0x2896d461310>"
      ]
     },
     "execution_count": 103,
     "metadata": {},
     "output_type": "execute_result"
    },
    {
     "data": {
      "image/png": "[encoded data removed]",
      "text/plain": [
       "<Figure size 576x360 with 1 Axes>"
      ]
     },
     "metadata": {
      "needs_background": "light"
     },
     "output_type": "display_data"
    }
   ],
   "source": [
    "plt.figure(figsize=(8,5)) \n",
    "plt.plot(x_train, y_train, marker='o', linestyle = ' ')  # 실제값\n",
    "plt.plot(x1, y1, color = 'red')  #regression line\n",
    "plt.axhline(y = mean, xmin = 0.04, xmax = 0.96, color = 'black') #mean"
   ]
  },
  {
   "cell_type": "markdown",
   "metadata": {},
   "source": [
    "##### MSE\n",
    "\n",
    "$$ \\frac{(실제값 - 에측값)^2}{데이터수} $$"
   ]
  },
  {
   "cell_type": "code",
   "execution_count": 104,
   "metadata": {},
   "outputs": [
    {
     "name": "stdout",
     "output_type": "stream",
     "text": [
      "0.12399558967136029\n"
     ]
    }
   ],
   "source": [
    "# 실제값 = y_train\n",
    "# 예측값 = reg_y\n",
    "# 데이터 수 = 10\n",
    "reg_MSE = mean_squared_error(y_train, reg_y)\n",
    "print(mean_squared_error(y_train, reg_y))"
   ]
  },
  {
   "cell_type": "code",
   "execution_count": 105,
   "metadata": {},
   "outputs": [
    {
     "name": "stdout",
     "output_type": "stream",
     "text": [
      "731.9851141136303\n"
     ]
    }
   ],
   "source": [
    "err = 0\n",
    "for i in range(len(x_train)):\n",
    "    err += (y_train[i]-mean)**2\n",
    "    \n",
    "print(err)    "
   ]
  },
  {
   "cell_type": "code",
   "execution_count": 106,
   "metadata": {},
   "outputs": [
    {
     "name": "stdout",
     "output_type": "stream",
     "text": [
      "73.19851141136303\n"
     ]
    }
   ],
   "source": [
    "avg_MSE = err/10\n",
    "print(avg_MSE)"
   ]
  },
  {
   "cell_type": "markdown",
   "metadata": {},
   "source": [
    "##### R-Squared"
   ]
  },
  {
   "cell_type": "code",
   "execution_count": 107,
   "metadata": {},
   "outputs": [
    {
     "name": "stdout",
     "output_type": "stream",
     "text": [
      "R-squared :  0.9983060367310679\n"
     ]
    }
   ],
   "source": [
    "r=1-(reg_MSE/avg_MSE)\n",
    "print(\"R-squared : \", r)    "
   ]
  },
  {
   "cell_type": "code",
   "execution_count": 108,
   "metadata": {},
   "outputs": [
    {
     "name": "stdout",
     "output_type": "stream",
     "text": [
      "평균 :  11.568705993902556\n",
      "MSE of regression line :  0.12399558967136029\n",
      "MSE of average line :  73.19851141136303\n",
      "R-squared :  0.9983060367310679\n"
     ]
    }
   ],
   "source": [
    "print(\"평균 : \", mean)\n",
    "print(\"MSE of regression line : \",reg_MSE)\n",
    "print(\"MSE of average line : \", avg_MSE)\n",
    "print(\"R-squared : \", r)"
   ]
  },
  {
   "cell_type": "markdown",
   "metadata": {
    "id": "a-rq4PVwexTN"
   },
   "source": [
    "**2번**"
   ]
  },
  {
   "cell_type": "code",
   "execution_count": 119,
   "metadata": {
    "colab": {
     "base_uri": "https://localhost:8080/",
     "height": 265
    },
    "executionInfo": {
     "elapsed": 1124,
     "status": "ok",
     "timestamp": 1601278050964,
     "user": {
      "displayName": "전영은",
      "photoUrl": "",
      "userId": "13133228027442839920"
     },
     "user_tz": -540
    },
    "id": "hTP31dLpc014",
    "outputId": "c5693f8a-47a8-43ed-9d83-e281a49584d9"
   },
   "outputs": [
    {
     "data": {
      "image/png": "[encoded data removed]",
      "text/plain": [
       "<Figure size 432x288 with 1 Axes>"
      ]
     },
     "metadata": {
      "needs_background": "light"
     },
     "output_type": "display_data"
    }
   ],
   "source": [
    "# X and Y data\n",
    "x_train = [1, 2, 3, 4, 5]\n",
    "\n",
    "y_train = [4.2, 5.4, 6.6, 7.8, 9.0]  # y = 1.2x + 3\n",
    "\n",
    "signal_length = len(x_train)\n",
    "y_noise = np.random.normal(0,1, signal_length)\n",
    "\n",
    "y_train = y_train + y_noise\n",
    "\n",
    "plt.plot(x_train, y_train,'.-')\n",
    "plt.grid()"
   ]
  },
  {
   "cell_type": "code",
   "execution_count": 120,
   "metadata": {
    "executionInfo": {
     "elapsed": 982,
     "status": "ok",
     "timestamp": 1601278065387,
     "user": {
      "displayName": "전영은",
      "photoUrl": "",
      "userId": "13133228027442839920"
     },
     "user_tz": -540
    },
    "id": "E_K4GnBbf643"
   },
   "outputs": [],
   "source": [
    "# initialization\n",
    "useRandom = True\n",
    "\n",
    "if useRandom:\n",
    "    W = tf.Variable(tf.random_normal([1]), name='weight')\n",
    "    b = tf.Variable(tf.random_normal([1]), name = 'bias')\n",
    "else:\n",
    "    w0 = 5.0;\n",
    "    b0 = 3.0;\n",
    "\n",
    "    W = tf.Variable(w0*tf.ones([1]), name='weight')\n",
    "    b = tf.Variable(b0*tf.ones([1]), name='bias')"
   ]
  },
  {
   "cell_type": "code",
   "execution_count": 121,
   "metadata": {
    "executionInfo": {
     "elapsed": 758,
     "status": "ok",
     "timestamp": 1601278071429,
     "user": {
      "displayName": "전영은",
      "photoUrl": "",
      "userId": "13133228027442839920"
     },
     "user_tz": -540
    },
    "id": "sgaXUNPheX4N"
   },
   "outputs": [],
   "source": [
    "# Our hypothesis XW+b\n",
    "hypothesis = x_train * W + b\n",
    "\n",
    "# loss function 정의하기 \n",
    "loss = tf.reduce_mean(tf.square(hypothesis - y_train))\n",
    "\n",
    "# Optimizer\n",
    "optimizer = tf.train.GradientDescentOptimizer(learning_rate=0.01)\n",
    "train = optimizer.minimize(loss)"
   ]
  },
  {
   "cell_type": "code",
   "execution_count": 122,
   "metadata": {
    "executionInfo": {
     "elapsed": 708,
     "status": "ok",
     "timestamp": 1601278074810,
     "user": {
      "displayName": "전영은",
      "photoUrl": "",
      "userId": "13133228027442839920"
     },
     "user_tz": -540
    },
    "id": "nv9ki5lieaNA"
   },
   "outputs": [],
   "source": [
    "# Launch the graph in a session\n",
    "sess = tf.Session()\n",
    "\n",
    "# Initializes global variables in the graph \n",
    "sess.run(tf.global_variables_initializer())"
   ]
  },
  {
   "cell_type": "code",
   "execution_count": 123,
   "metadata": {
    "colab": {
     "base_uri": "https://localhost:8080/",
     "height": 386
    },
    "executionInfo": {
     "elapsed": 2333,
     "status": "ok",
     "timestamp": 1601278112376,
     "user": {
      "displayName": "전영은",
      "photoUrl": "",
      "userId": "13133228027442839920"
     },
     "user_tz": -540
    },
    "id": "YNDZvKnlecZC",
    "outputId": "c3f6c901-6c05-41ba-bf4f-31b92a97818c"
   },
   "outputs": [
    {
     "name": "stdout",
     "output_type": "stream",
     "text": [
      "0 \t 3.3147335 \t 2.1035442 \t -1.0460306\n",
      "50 \t 2.0311124 \t 2.1683254 \t -0.42733032\n",
      "100 \t 1.5529855 \t 2.037856 \t 0.04370659\n",
      "150 \t 1.2122154 \t 1.92771 \t 0.44136825\n",
      "200 \t 0.9693425 \t 1.8347219 \t 0.7770849\n",
      "250 \t 0.79624283 \t 1.756219 \t 1.0605055\n",
      "300 \t 0.6728709 \t 1.6899446 \t 1.299777\n",
      "350 \t 0.584942 \t 1.6339941 \t 1.5017762\n",
      "400 \t 0.5222735 \t 1.5867591 \t 1.6723092\n",
      "450 \t 0.47760805 \t 1.5468823 \t 1.8162777\n",
      "500 \t 0.4457745 \t 1.513217 \t 1.9378197\n",
      "550 \t 0.42308584 \t 1.4847959 \t 2.040429\n",
      "600 \t 0.40691558 \t 1.4608021 \t 2.127054\n",
      "650 \t 0.3953906 \t 1.4405459 \t 2.2001853\n",
      "700 \t 0.38717657 \t 1.4234452 \t 2.2619243\n",
      "750 \t 0.3813222 \t 1.4090081 \t 2.3140464\n",
      "800 \t 0.37714976 \t 1.3968202 \t 2.358049\n",
      "850 \t 0.374176 \t 1.3865309 \t 2.3951967\n",
      "900 \t 0.37205657 \t 1.3778442 \t 2.426558\n",
      "950 \t 0.37054604 \t 1.3705107 \t 2.453035\n",
      "1000 \t 0.36946914 \t 1.3643196 \t 2.4753866\n"
     ]
    }
   ],
   "source": [
    "nb_epoch = 1001\n",
    "vloss = [] # empty list\n",
    "vb = [] # empty list\n",
    "vw = [] # empty list\n",
    "\n",
    "for step in range(nb_epoch):\n",
    "    sess.run(train)\n",
    "    loss1 = sess.run(loss)\n",
    "    vloss.append(loss1)\n",
    "    w1 = sess.run(W)\n",
    "    vw.append(w1)\n",
    "    b1 = sess.run(b)\n",
    "    vb.append(b1)\n",
    "    \n",
    "    if step % 50 == 0: # 50번마다\n",
    "        w1 = sess.run(W)[0] # 기울기\n",
    "        b1 = sess.run(b)[0] # bias\n",
    "\n",
    "        print(step, '\\t', loss1, '\\t', w1, '\\t', b1)"
   ]
  },
  {
   "cell_type": "code",
   "execution_count": 124,
   "metadata": {
    "colab": {
     "base_uri": "https://localhost:8080/",
     "height": 297
    },
    "executionInfo": {
     "elapsed": 1106,
     "status": "ok",
     "timestamp": 1601278125868,
     "user": {
      "displayName": "전영은",
      "photoUrl": "",
      "userId": "13133228027442839920"
     },
     "user_tz": -540
    },
    "id": "42BMQKENfYoG",
    "outputId": "0579087d-73a4-4703-ed77-26e7b09a5d0b"
   },
   "outputs": [
    {
     "data": {
      "text/plain": [
       "Text(0, 0.5, 'loss')"
      ]
     },
     "execution_count": 124,
     "metadata": {},
     "output_type": "execute_result"
    },
    {
     "data": {
      "image/png": "[encoded data removed]",
      "text/plain": [
       "<Figure size 432x288 with 1 Axes>"
      ]
     },
     "metadata": {
      "needs_background": "light"
     },
     "output_type": "display_data"
    }
   ],
   "source": [
    "plt.plot(vloss[:20], '.-')\n",
    "plt.xlabel('epoch')\n",
    "plt.ylabel('loss')"
   ]
  },
  {
   "cell_type": "code",
   "execution_count": 125,
   "metadata": {
    "colab": {
     "base_uri": "https://localhost:8080/",
     "height": 301
    },
    "executionInfo": {
     "elapsed": 1254,
     "status": "ok",
     "timestamp": 1601278133838,
     "user": {
      "displayName": "전영은",
      "photoUrl": "",
      "userId": "13133228027442839920"
     },
     "user_tz": -540
    },
    "id": "3JnynmttfdgU",
    "outputId": "c1363bc6-3d4a-4860-b6fb-85081d83312f"
   },
   "outputs": [
    {
     "data": {
      "text/plain": [
       "Text(0, 0.5, 'Weight')"
      ]
     },
     "execution_count": 125,
     "metadata": {},
     "output_type": "execute_result"
    },
    {
     "data": {
      "image/png": "[encoded data removed]",
      "text/plain": [
       "<Figure size 432x288 with 1 Axes>"
      ]
     },
     "metadata": {
      "needs_background": "light"
     },
     "output_type": "display_data"
    }
   ],
   "source": [
    "# W의 epoch에 따른 변화 그래프 \n",
    "plt.plot(vw[:], '-')\n",
    "plt.xlabel('epoch')\n",
    "plt.ylabel('Weight')"
   ]
  },
  {
   "cell_type": "code",
   "execution_count": 126,
   "metadata": {
    "colab": {
     "base_uri": "https://localhost:8080/",
     "height": 297
    },
    "executionInfo": {
     "elapsed": 865,
     "status": "ok",
     "timestamp": 1601278144752,
     "user": {
      "displayName": "전영은",
      "photoUrl": "",
      "userId": "13133228027442839920"
     },
     "user_tz": -540
    },
    "id": "emgYMtALfikg",
    "outputId": "51f19f24-f485-4aa0-dd27-a0e88317cc05"
   },
   "outputs": [
    {
     "data": {
      "text/plain": [
       "Text(0, 0.5, 'Bias')"
      ]
     },
     "execution_count": 126,
     "metadata": {},
     "output_type": "execute_result"
    },
    {
     "data": {
      "image/png": "[encoded data removed]",
      "text/plain": [
       "<Figure size 432x288 with 1 Axes>"
      ]
     },
     "metadata": {
      "needs_background": "light"
     },
     "output_type": "display_data"
    }
   ],
   "source": [
    "# b의 epoch에 따른 변화 그래프 \n",
    "plt.plot(vb[:], '-')\n",
    "plt.xlabel('epoch')\n",
    "plt.ylabel('Bias')"
   ]
  },
  {
   "cell_type": "code",
   "execution_count": 127,
   "metadata": {
    "executionInfo": {
     "elapsed": 1780,
     "status": "ok",
     "timestamp": 1601278164667,
     "user": {
      "displayName": "전영은",
      "photoUrl": "",
      "userId": "13133228027442839920"
     },
     "user_tz": -540
    },
    "id": "8U2kO751ee7h"
   },
   "outputs": [],
   "source": [
    "# 학습완료\n",
    "w1 = sess.run(W)[0] # 기울기 \n",
    "b1 = sess.run(b)[0] # bias"
   ]
  },
  {
   "cell_type": "code",
   "execution_count": 128,
   "metadata": {
    "colab": {
     "base_uri": "https://localhost:8080/",
     "height": 52
    },
    "executionInfo": {
     "elapsed": 935,
     "status": "ok",
     "timestamp": 1601278164677,
     "user": {
      "displayName": "전영은",
      "photoUrl": "",
      "userId": "13133228027442839920"
     },
     "user_tz": -540
    },
    "id": "oCvtq9wyehmR",
    "outputId": "e6736b78-6529-4149-ca1f-c2c9b0431e0a"
   },
   "outputs": [
    {
     "name": "stdout",
     "output_type": "stream",
     "text": [
      "1.3643196 2.4753866\n",
      "y = 1.3643196x + 2.4753866\n"
     ]
    }
   ],
   "source": [
    "# 출력해보기\n",
    "print(w1, b1)\n",
    "\n",
    "str1 = 'y = ' + str(w1) + 'x + ' + str(b1)\n",
    "print(str1)"
   ]
  },
  {
   "cell_type": "code",
   "execution_count": 129,
   "metadata": {
    "colab": {
     "base_uri": "https://localhost:8080/",
     "height": 354
    },
    "executionInfo": {
     "elapsed": 914,
     "status": "ok",
     "timestamp": 1601278168888,
     "user": {
      "displayName": "전영은",
      "photoUrl": "",
      "userId": "13133228027442839920"
     },
     "user_tz": -540
    },
    "id": "7aNZHiB2ejLM",
    "outputId": "2f479d7a-b10a-48bb-d49a-1f322270503a"
   },
   "outputs": [
    {
     "data": {
      "text/plain": [
       "Text(0.5, 1.0, 'y = 1.3643196x + 2.4753866')"
      ]
     },
     "execution_count": 129,
     "metadata": {},
     "output_type": "execute_result"
    },
    {
     "data": {
      "image/png": "[encoded data removed]",
      "text/plain": [
       "<Figure size 576x360 with 1 Axes>"
      ]
     },
     "metadata": {
      "needs_background": "light"
     },
     "output_type": "display_data"
    }
   ],
   "source": [
    "plt.figure(figsize=(8,5)) \n",
    "plt.plot(x_train, y_train, 'o') # train_data 그리기\n",
    "\n",
    "# 직선 그래프를 그리기 위한 코드\n",
    "# 그래프의 x좌표를 일정 간격으로 설정함 \n",
    "x1 = np.linspace(np.min(x_train)-1, np.max(x_train)+1)\n",
    "y1 = w1*x1 + b1\n",
    "plt.plot(x1, y1)\n",
    "\n",
    "plt.grid() # 격자\n",
    "# plt.axis((np.min(x_train) - 1, np.max(x_train) + 1, np.min(y_train) - 1,\n",
    "# np.max(y_train) + 1))\n",
    "plt.title(str1)"
   ]
  },
  {
   "cell_type": "markdown",
   "metadata": {
    "id": "i9QKBiq-eldS"
   },
   "source": [
    "### R-squared Score"
   ]
  },
  {
   "cell_type": "code",
   "execution_count": 130,
   "metadata": {},
   "outputs": [
    {
     "name": "stdout",
     "output_type": "stream",
     "text": [
      "(5,)\n",
      "(5,)\n"
     ]
    }
   ],
   "source": [
    "x = np.array(x_train)\n",
    "y = np.array(y_train)\n",
    "print(x.shape)\n",
    "print(y.shape)"
   ]
  },
  {
   "cell_type": "code",
   "execution_count": 131,
   "metadata": {},
   "outputs": [
    {
     "name": "stdout",
     "output_type": "stream",
     "text": [
      "[1, 2, 3, 4, 5]\n",
      "[3.86038208 5.99101874 5.49474852 8.17649528 9.4214731 ]\n"
     ]
    }
   ],
   "source": [
    "print(x_train)\n",
    "print(y_train)"
   ]
  },
  {
   "cell_type": "code",
   "execution_count": 132,
   "metadata": {},
   "outputs": [
    {
     "name": "stdout",
     "output_type": "stream",
     "text": [
      "[3.8397061824798584, 5.204025745391846, 6.568345308303833, 7.93266487121582, 9.296984434127808]\n"
     ]
    }
   ],
   "source": [
    "reg_y = []\n",
    "for i in x_train:\n",
    "    y2 = w1*x_train[i-1] + b1\n",
    "    reg_y.append(y2)   # 예측값 \n",
    "\n",
    "print(reg_y)"
   ]
  },
  {
   "cell_type": "code",
   "execution_count": 133,
   "metadata": {},
   "outputs": [
    {
     "name": "stdout",
     "output_type": "stream",
     "text": [
      "6.588823542363466\n"
     ]
    }
   ],
   "source": [
    "mean = np.mean(y_train)\n",
    "print(mean)"
   ]
  },
  {
   "cell_type": "code",
   "execution_count": 134,
   "metadata": {},
   "outputs": [
    {
     "data": {
      "text/plain": [
       "<matplotlib.lines.Line2D at 0x2896d621ee0>"
      ]
     },
     "execution_count": 134,
     "metadata": {},
     "output_type": "execute_result"
    },
    {
     "data": {
      "image/png": "[encoded data removed]",
      "text/plain": [
       "<Figure size 576x360 with 1 Axes>"
      ]
     },
     "metadata": {
      "needs_background": "light"
     },
     "output_type": "display_data"
    }
   ],
   "source": [
    "plt.figure(figsize=(8,5)) \n",
    "plt.plot(x_train, y_train, marker='o', linestyle = ' ')  # 실제값\n",
    "plt.plot(x1, y1, color = 'red')  #regression line\n",
    "plt.axhline(y = mean, xmin = 0.04, xmax = 0.96, color = 'black') #mean"
   ]
  },
  {
   "cell_type": "markdown",
   "metadata": {},
   "source": [
    "##### MSE\n",
    "\n",
    "$$ \\frac{(실제값 - 에측값)^2}{데이터수} $$"
   ]
  },
  {
   "cell_type": "code",
   "execution_count": 135,
   "metadata": {},
   "outputs": [
    {
     "name": "stdout",
     "output_type": "stream",
     "text": [
      "0.3694692477577538\n"
     ]
    }
   ],
   "source": [
    "# 실제값 = y_train\n",
    "# 예측값 = reg_y\n",
    "# 데이터 수 = 5\n",
    "reg_MSE = mean_squared_error(y_train, reg_y)\n",
    "print(mean_squared_error(y_train, reg_y))"
   ]
  },
  {
   "cell_type": "code",
   "execution_count": 136,
   "metadata": {},
   "outputs": [
    {
     "name": "stdout",
     "output_type": "stream",
     "text": [
      "19.54336862221357\n"
     ]
    }
   ],
   "source": [
    "err = 0\n",
    "for i in range(len(x_train)):\n",
    "    err += (y_train[i]-mean)**2\n",
    "    \n",
    "print(err)    "
   ]
  },
  {
   "cell_type": "code",
   "execution_count": 137,
   "metadata": {},
   "outputs": [
    {
     "name": "stdout",
     "output_type": "stream",
     "text": [
      "3.908673724442714\n"
     ]
    }
   ],
   "source": [
    "avg_MSE = err/5\n",
    "print(avg_MSE)"
   ]
  },
  {
   "cell_type": "markdown",
   "metadata": {},
   "source": [
    "##### R-Squared"
   ]
  },
  {
   "cell_type": "code",
   "execution_count": 138,
   "metadata": {},
   "outputs": [
    {
     "name": "stdout",
     "output_type": "stream",
     "text": [
      "R-squared :  0.9054745231234589\n"
     ]
    }
   ],
   "source": [
    "r=1-(reg_MSE/avg_MSE)\n",
    "print(\"R-squared : \", r)   "
   ]
  },
  {
   "cell_type": "code",
   "execution_count": 139,
   "metadata": {},
   "outputs": [
    {
     "name": "stdout",
     "output_type": "stream",
     "text": [
      "평균 :  6.588823542363466\n",
      "MSE of regression line :  0.3694692477577538\n",
      "MSE of average line :  3.908673724442714\n",
      "R-squared :  0.9054745231234589\n"
     ]
    }
   ],
   "source": [
    "print(\"평균 : \", mean)\n",
    "print(\"MSE of regression line : \",reg_MSE)\n",
    "print(\"MSE of average line : \", avg_MSE)\n",
    "print(\"R-squared : \", r)"
   ]
  },
  {
   "cell_type": "code",
   "execution_count": null,
   "metadata": {},
   "outputs": [],
   "source": []
  }
 ],
 "metadata": {
  "colab": {
   "authorship_tag": "ABX9TyOqxstODy/O1U3R0y05w3zJ",
   "collapsed_sections": [],
   "name": "01_linear_regression_using_tensorflow.ipynb",
   "provenance": []
  },
  "kernelspec": {
   "display_name": "Python 3",
   "language": "python",
   "name": "python3"
  },
  "language_info": {
   "codemirror_mode": {
    "name": "ipython",
    "version": 3
   },
   "file_extension": ".py",
   "mimetype": "text/x-python",
   "name": "python",
   "nbconvert_exporter": "python",
   "pygments_lexer": "ipython3",
   "version": "3.8.2"
  }
 },
 "nbformat": 4,
 "nbformat_minor": 1
}
