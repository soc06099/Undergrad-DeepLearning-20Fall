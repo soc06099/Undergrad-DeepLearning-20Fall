{
 "cells": [
  {
   "cell_type": "markdown",
   "metadata": {
    "colab_type": "text",
    "id": "i6TdkCb6sa0A"
   },
   "source": [
    "# **Python tutorial #1**"
   ]
  },
  {
   "cell_type": "markdown",
   "metadata": {
    "colab_type": "text",
    "id": "kmpJ0jRVs-ln"
   },
   "source": [
    "## **Hello World!**"
   ]
  },
  {
   "cell_type": "code",
   "execution_count": 1,
   "metadata": {
    "colab": {
     "base_uri": "https://localhost:8080/",
     "height": 52
    },
    "colab_type": "code",
    "executionInfo": {
     "elapsed": 740,
     "status": "ok",
     "timestamp": 1599115448004,
     "user": {
      "displayName": "전영은",
      "photoUrl": "",
      "userId": "13133228027442839920"
     },
     "user_tz": -540
    },
    "id": "WyREkBVas-Pu",
    "outputId": "1f684a3d-cdb6-46a6-9d31-ec03d5f8b865"
   },
   "outputs": [
    {
     "name": "stdout",
     "output_type": "stream",
     "text": [
      "Hello World\n",
      "Hello World 2 + 3 = 5\n"
     ]
    }
   ],
   "source": [
    "print('Hello World')\n",
    "print('Hello World {} + {} = {}'.format(2, 3, 2+3))"
   ]
  },
  {
   "cell_type": "markdown",
   "metadata": {
    "colab_type": "text",
    "id": "qQ1o7cXPtTrF"
   },
   "source": [
    "## **Basic data types** "
   ]
  },
  {
   "cell_type": "code",
   "execution_count": 2,
   "metadata": {
    "colab": {
     "base_uri": "https://localhost:8080/",
     "height": 52
    },
    "colab_type": "code",
    "executionInfo": {
     "elapsed": 789,
     "status": "ok",
     "timestamp": 1599115476301,
     "user": {
      "displayName": "전영은",
      "photoUrl": "",
      "userId": "13133228027442839920"
     },
     "user_tz": -540
    },
    "id": "SzaNA6ads2f4",
    "outputId": "bc4eaa86-46a9-477c-e5a4-17d85aaa8086"
   },
   "outputs": [
    {
     "name": "stdout",
     "output_type": "stream",
     "text": [
      "<class 'int'>\n",
      "3\n"
     ]
    }
   ],
   "source": [
    "x = 3\n",
    "print(type(x)) # Prints \"<class 'int'>\"\n",
    "print(x) # Prints \"3\"\n"
   ]
  },
  {
   "cell_type": "code",
   "execution_count": 3,
   "metadata": {
    "colab": {
     "base_uri": "https://localhost:8080/",
     "height": 87
    },
    "colab_type": "code",
    "executionInfo": {
     "elapsed": 688,
     "status": "ok",
     "timestamp": 1599115485304,
     "user": {
      "displayName": "전영은",
      "photoUrl": "",
      "userId": "13133228027442839920"
     },
     "user_tz": -540
    },
    "id": "DgrY0CqwhLqT",
    "outputId": "8ae0993f-75b9-4590-978c-dc9d5215408a"
   },
   "outputs": [
    {
     "name": "stdout",
     "output_type": "stream",
     "text": [
      "4\n",
      "2\n",
      "6\n",
      "9\n"
     ]
    }
   ],
   "source": [
    "print(x + 1) # Addition; prints \"4\"\n",
    "print(x - 1) # Subtraction; prints \"2\"\n",
    "print(x * 2) # Multiplication; prints \"6\"\n",
    "print(x ** 2) # Exponentiation; prints \"9\"\n"
   ]
  },
  {
   "cell_type": "markdown",
   "metadata": {
    "colab_type": "text",
    "id": "TBKXLGn9tepd"
   },
   "source": [
    "## **For statement**"
   ]
  },
  {
   "cell_type": "markdown",
   "metadata": {
    "colab_type": "text",
    "id": "xel1SJ48tnyG"
   },
   "source": [
    "range: 영역을 설정"
   ]
  },
  {
   "cell_type": "code",
   "execution_count": 4,
   "metadata": {
    "colab": {
     "base_uri": "https://localhost:8080/",
     "height": 34
    },
    "colab_type": "code",
    "executionInfo": {
     "elapsed": 740,
     "status": "ok",
     "timestamp": 1599115521088,
     "user": {
      "displayName": "전영은",
      "photoUrl": "",
      "userId": "13133228027442839920"
     },
     "user_tz": -540
    },
    "id": "kwmQNTGXtiRR",
    "outputId": "8d2e04e4-7198-43e5-e92d-8719230bbef0"
   },
   "outputs": [
    {
     "name": "stdout",
     "output_type": "stream",
     "text": [
      "range(0, 5)\n"
     ]
    }
   ],
   "source": [
    "A = range(5)\n",
    "print(A)"
   ]
  },
  {
   "cell_type": "markdown",
   "metadata": {
    "colab_type": "text",
    "id": "RTwF-lwgtsNF"
   },
   "source": [
    "\n",
    "\n",
    "*   A의 세번째 요소를 출력\n",
    "\n"
   ]
  },
  {
   "cell_type": "code",
   "execution_count": 5,
   "metadata": {
    "colab": {
     "base_uri": "https://localhost:8080/",
     "height": 34
    },
    "colab_type": "code",
    "executionInfo": {
     "elapsed": 710,
     "status": "ok",
     "timestamp": 1599115576101,
     "user": {
      "displayName": "전영은",
      "photoUrl": "",
      "userId": "13133228027442839920"
     },
     "user_tz": -540
    },
    "id": "7Dlni7z3trpe",
    "outputId": "7dd3429b-3270-4b43-ba6e-bb47cac21241"
   },
   "outputs": [
    {
     "name": "stdout",
     "output_type": "stream",
     "text": [
      "2\n"
     ]
    }
   ],
   "source": [
    "print(A[2])"
   ]
  },
  {
   "cell_type": "code",
   "execution_count": 7,
   "metadata": {
    "colab": {
     "base_uri": "https://localhost:8080/",
     "height": 105
    },
    "colab_type": "code",
    "executionInfo": {
     "elapsed": 519,
     "status": "ok",
     "timestamp": 1599115628928,
     "user": {
      "displayName": "전영은",
      "photoUrl": "",
      "userId": "13133228027442839920"
     },
     "user_tz": -540
    },
    "id": "RAUVftEHtmiL",
    "outputId": "08252aa9-091a-484f-aeb9-e117c81a580e"
   },
   "outputs": [
    {
     "name": "stdout",
     "output_type": "stream",
     "text": [
      "0 ----- 0\n",
      "1 ----- 1\n",
      "2 ----- 2\n",
      "3 ----- 3\n",
      "4 ----- 4\n"
     ]
    }
   ],
   "source": [
    "for i in range(5):\n",
    "  #print(i, a[i])\n",
    "  print('{} ----- {}'.format(i,A[i]))"
   ]
  },
  {
   "cell_type": "markdown",
   "metadata": {
    "colab_type": "text",
    "id": "v0tZtEChuEJ3"
   },
   "source": [
    "**Exercise**"
   ]
  },
  {
   "cell_type": "code",
   "execution_count": 8,
   "metadata": {
    "colab": {
     "base_uri": "https://localhost:8080/",
     "height": 175
    },
    "colab_type": "code",
    "executionInfo": {
     "elapsed": 546,
     "status": "ok",
     "timestamp": 1599115721896,
     "user": {
      "displayName": "전영은",
      "photoUrl": "",
      "userId": "13133228027442839920"
     },
     "user_tz": -540
    },
    "id": "_3-2QbZAt_bn",
    "outputId": "d1d26719-31b1-424d-81de-3fc80c12a5a6"
   },
   "outputs": [
    {
     "name": "stdout",
     "output_type": "stream",
     "text": [
      "2 x 1 = 2\n",
      "2 x 2 = 4\n",
      "2 x 3 = 6\n",
      "2 x 4 = 8\n",
      "2 x 5 = 10\n",
      "2 x 6 = 12\n",
      "2 x 7 = 14\n",
      "2 x 8 = 16\n",
      "2 x 9 = 18\n"
     ]
    }
   ],
   "source": [
    "for i in range(9):\n",
    "    print('{} x {} = {}'.format(2, i+1, 2*(i+1)))"
   ]
  },
  {
   "cell_type": "markdown",
   "metadata": {
    "colab_type": "text",
    "id": "P7A4Nerdu0Zw"
   },
   "source": [
    "## **Operators**"
   ]
  },
  {
   "cell_type": "code",
   "execution_count": 10,
   "metadata": {
    "colab": {
     "base_uri": "https://localhost:8080/",
     "height": 70
    },
    "colab_type": "code",
    "executionInfo": {
     "elapsed": 535,
     "status": "ok",
     "timestamp": 1599115978298,
     "user": {
      "displayName": "전영은",
      "photoUrl": "",
      "userId": "13133228027442839920"
     },
     "user_tz": -540
    },
    "id": "KQPs7np2uXoS",
    "outputId": "45cfa13a-675a-44e8-e1cf-84a8279c1ecc"
   },
   "outputs": [
    {
     "name": "stdout",
     "output_type": "stream",
     "text": [
      "(1, 2, 3, 1, 2, 3, 1, 2, 3)\n",
      "[1, 2, 3, 1, 2, 3, 1, 2, 3]\n",
      "Hello Hello Hello \n"
     ]
    }
   ],
   "source": [
    "print((1,2,3) * 3)\n",
    "print([1, 2, 3] * 3)\n",
    "print('Hello ' * 3)"
   ]
  },
  {
   "cell_type": "markdown",
   "metadata": {
    "colab_type": "text",
    "id": "u_WW5rCkvXbO"
   },
   "source": [
    "## **Containers**\n",
    "\n",
    "Python includes several built-in container types: lists, dictionaries, sets, and tuples."
   ]
  },
  {
   "cell_type": "markdown",
   "metadata": {
    "colab_type": "text",
    "id": "Pbl0zFakwSdJ"
   },
   "source": [
    "### **Tuple**\n",
    "\n",
    "A simple immutable (변경할 수 없는, 불변의) ordered sequence of items"
   ]
  },
  {
   "cell_type": "code",
   "execution_count": 11,
   "metadata": {
    "colab": {
     "base_uri": "https://localhost:8080/",
     "height": 52
    },
    "colab_type": "code",
    "executionInfo": {
     "elapsed": 796,
     "status": "ok",
     "timestamp": 1599116310430,
     "user": {
      "displayName": "전영은",
      "photoUrl": "",
      "userId": "13133228027442839920"
     },
     "user_tz": -540
    },
    "id": "jzesF1jfvUVP",
    "outputId": "8f4c4568-8f8a-41e5-b04b-93c6718ad70b"
   },
   "outputs": [
    {
     "name": "stdout",
     "output_type": "stream",
     "text": [
      "January\n",
      "index of 7 ==>  August\n"
     ]
    }
   ],
   "source": [
    "# -*- coding: utf-8 -*-\n",
    "# creating a tuple\n",
    "\n",
    "months = ('January','February','March','April','May','June',\\\n",
    "'July','August','September','October','November','December')\n",
    "\n",
    "print(months[0])\n",
    "print(\"index of 7 ==> \" , months[7])\n"
   ]
  },
  {
   "cell_type": "markdown",
   "metadata": {
    "colab_type": "text",
    "id": "Ht0rJihvwo_9"
   },
   "source": [
    "하나씩 출력하기"
   ]
  },
  {
   "cell_type": "code",
   "execution_count": 12,
   "metadata": {
    "colab": {
     "base_uri": "https://localhost:8080/",
     "height": 228
    },
    "colab_type": "code",
    "executionInfo": {
     "elapsed": 917,
     "status": "ok",
     "timestamp": 1599116331021,
     "user": {
      "displayName": "전영은",
      "photoUrl": "",
      "userId": "13133228027442839920"
     },
     "user_tz": -540
    },
    "id": "S_Z6JswVwnPs",
    "outputId": "44135b77-2b1c-42ea-d138-f278f9f9d031"
   },
   "outputs": [
    {
     "name": "stdout",
     "output_type": "stream",
     "text": [
      "January\n",
      "February\n",
      "March\n",
      "April\n",
      "May\n",
      "June\n",
      "July\n",
      "August\n",
      "September\n",
      "October\n",
      "November\n",
      "December\n"
     ]
    }
   ],
   "source": [
    "# iterate through them:\n",
    "for item in months:\n",
    "    print (item)\n"
   ]
  },
  {
   "cell_type": "code",
   "execution_count": 13,
   "metadata": {
    "colab": {
     "base_uri": "https://localhost:8080/",
     "height": 140
    },
    "colab_type": "code",
    "executionInfo": {
     "elapsed": 744,
     "status": "ok",
     "timestamp": 1599116341235,
     "user": {
      "displayName": "전영은",
      "photoUrl": "",
      "userId": "13133228027442839920"
     },
     "user_tz": -540
    },
    "id": "fIuGc-14wsPV",
    "outputId": "26cf2e3e-ac31-4d67-e934-8da89c45108a"
   },
   "outputs": [
    {
     "name": "stdout",
     "output_type": "stream",
     "text": [
      "('john', 32, (2, 3, 4, 5), 'hello')\n",
      "(2, 3, 4, 5)\n",
      "3\n",
      "('john', 32)\n",
      "((2, 3, 4, 5), 'hello')\n",
      "hello\n",
      "(2, 3, 4, 5)\n"
     ]
    }
   ],
   "source": [
    "t = ('john', 32, (2,3,4,5), 'hello')\n",
    "print(t)\n",
    "print(t[2])\n",
    "print(t[2][1])\n",
    "print(t[:2]) # index 포함 X\n",
    "print(t[2:]) # index 포함 O\n",
    "print(t[-1])\n",
    "print(t[-2])"
   ]
  },
  {
   "cell_type": "markdown",
   "metadata": {
    "colab_type": "text",
    "id": "5QfKhlpUwxgW"
   },
   "source": [
    "### **List**\n",
    "\n",
    "Mutable(바꿀수 있는 변경가능한) ordered sequence of items of mixed types"
   ]
  },
  {
   "cell_type": "code",
   "execution_count": 14,
   "metadata": {
    "colab": {
     "base_uri": "https://localhost:8080/",
     "height": 34
    },
    "colab_type": "code",
    "executionInfo": {
     "elapsed": 615,
     "status": "ok",
     "timestamp": 1599116433585,
     "user": {
      "displayName": "전영은",
      "photoUrl": "",
      "userId": "13133228027442839920"
     },
     "user_tz": -540
    },
    "id": "2pKvNovNwuxk",
    "outputId": "5d0e7550-4675-41c1-e96d-9b6e50ae76d1"
   },
   "outputs": [
    {
     "name": "stdout",
     "output_type": "stream",
     "text": [
      "['hallym', 1, 3.141572, 'hello']\n"
     ]
    }
   ],
   "source": [
    "li = ['hallym', 1, 3.141572, 'hello']\n",
    "print(li)\n"
   ]
  },
  {
   "cell_type": "code",
   "execution_count": 15,
   "metadata": {
    "colab": {
     "base_uri": "https://localhost:8080/",
     "height": 34
    },
    "colab_type": "code",
    "executionInfo": {
     "elapsed": 845,
     "status": "ok",
     "timestamp": 1599116439957,
     "user": {
      "displayName": "전영은",
      "photoUrl": "",
      "userId": "13133228027442839920"
     },
     "user_tz": -540
    },
    "id": "8M6MUYc0xFVy",
    "outputId": "263ea623-a9e2-4836-926f-72e03ae88e8a"
   },
   "outputs": [
    {
     "name": "stdout",
     "output_type": "stream",
     "text": [
      "['hallym', 45, 3.141572, 'hello']\n"
     ]
    }
   ],
   "source": [
    "li[1] = 45\n",
    "print(li)\n"
   ]
  },
  {
   "cell_type": "code",
   "execution_count": 16,
   "metadata": {
    "colab": {
     "base_uri": "https://localhost:8080/",
     "height": 34
    },
    "colab_type": "code",
    "executionInfo": {
     "elapsed": 691,
     "status": "ok",
     "timestamp": 1599116456543,
     "user": {
      "displayName": "전영은",
      "photoUrl": "",
      "userId": "13133228027442839920"
     },
     "user_tz": -540
    },
    "id": "qdRZGM5LxG2G",
    "outputId": "e6eab23a-fd0f-4768-f1bc-bb42d36ad929"
   },
   "outputs": [
    {
     "name": "stdout",
     "output_type": "stream",
     "text": [
      "['hallym', 45, 3.141572, 'hello', 'September']\n"
     ]
    }
   ],
   "source": [
    "li.append('September')\n",
    "print(li)"
   ]
  },
  {
   "cell_type": "markdown",
   "metadata": {
    "colab_type": "text",
    "id": "VXRynOTGxKk-"
   },
   "source": [
    "리스트에 새로운 것이 뒤에 붙은 것 (append)을 확인 가능 \n",
    "\n",
    "\n",
    "\n",
    "*   비어있는 리스트 만들기\n",
    "\n"
   ]
  },
  {
   "cell_type": "code",
   "execution_count": 17,
   "metadata": {
    "colab": {},
    "colab_type": "code",
    "executionInfo": {
     "elapsed": 792,
     "status": "ok",
     "timestamp": 1599116514225,
     "user": {
      "displayName": "전영은",
      "photoUrl": "",
      "userId": "13133228027442839920"
     },
     "user_tz": -540
    },
    "id": "teR8v_oLxXF5"
   },
   "outputs": [],
   "source": [
    "v = []"
   ]
  },
  {
   "cell_type": "markdown",
   "metadata": {
    "colab_type": "text",
    "id": "VM1n48cwxZa9"
   },
   "source": [
    "\n",
    "\n",
    "*   비어있는 리스트에 값 추가하기 \n",
    "\n"
   ]
  },
  {
   "cell_type": "code",
   "execution_count": 18,
   "metadata": {
    "colab": {
     "base_uri": "https://localhost:8080/",
     "height": 70
    },
    "colab_type": "code",
    "executionInfo": {
     "elapsed": 759,
     "status": "ok",
     "timestamp": 1599116537780,
     "user": {
      "displayName": "전영은",
      "photoUrl": "",
      "userId": "13133228027442839920"
     },
     "user_tz": -540
    },
    "id": "kkdQ5w93xY3a",
    "outputId": "451ac6df-fafc-4125-e1b3-1f853eda4a96"
   },
   "outputs": [
    {
     "name": "stdout",
     "output_type": "stream",
     "text": [
      "0 [0]\n",
      "1 [0, 5]\n",
      "2 [0, 5, 10]\n"
     ]
    }
   ],
   "source": [
    "for i in range(0,3):\n",
    " v.append(i*5)\n",
    " print(i, v)\n"
   ]
  },
  {
   "cell_type": "markdown",
   "metadata": {
    "colab_type": "text",
    "id": "Nwwz01LQxoGv"
   },
   "source": [
    "**+ 연산자**"
   ]
  },
  {
   "cell_type": "code",
   "execution_count": 19,
   "metadata": {
    "colab": {
     "base_uri": "https://localhost:8080/",
     "height": 70
    },
    "colab_type": "code",
    "executionInfo": {
     "elapsed": 1140,
     "status": "ok",
     "timestamp": 1599116603266,
     "user": {
      "displayName": "전영은",
      "photoUrl": "",
      "userId": "13133228027442839920"
     },
     "user_tz": -540
    },
    "id": "NeaJLck_xewJ",
    "outputId": "b91cbb0a-a4a6-4731-cfd7-b06f2fb52d65"
   },
   "outputs": [
    {
     "name": "stdout",
     "output_type": "stream",
     "text": [
      "(1, 2, 3, 4, 5, 6)\n",
      "[1, 2, 3, 4, 5, 6]\n",
      "Hello World\n"
     ]
    }
   ],
   "source": [
    "print((1, 2, 3) + (4, 5, 6))\n",
    "print([1, 2, 3] + [4, 5, 6])\n",
    "print(\"Hello\" + \" \" + \"World\")"
   ]
  },
  {
   "cell_type": "markdown",
   "metadata": {
    "colab_type": "text",
    "id": "b6FXrk3FxwqS"
   },
   "source": [
    "*** 연산자**\n",
    "\n",
    "The * operator produces a new tuple, list or string that \"repeats\" the original content."
   ]
  },
  {
   "cell_type": "code",
   "execution_count": 20,
   "metadata": {
    "colab": {
     "base_uri": "https://localhost:8080/",
     "height": 52
    },
    "colab_type": "code",
    "executionInfo": {
     "elapsed": 721,
     "status": "ok",
     "timestamp": 1599116710090,
     "user": {
      "displayName": "전영은",
      "photoUrl": "",
      "userId": "13133228027442839920"
     },
     "user_tz": -540
    },
    "id": "P72zKDAcxup1",
    "outputId": "d34579c0-e384-4058-8345-7ef6cfcf754f"
   },
   "outputs": [
    {
     "name": "stdout",
     "output_type": "stream",
     "text": [
      "<class 'float'>\n",
      "2.5 3.5 5.0 6.25\n"
     ]
    }
   ],
   "source": [
    "y = 2.5\n",
    "print(type(y)) # Prints \"<class 'float'>\"\n",
    "print(y, y + 1, y * 2, y ** 2) # Prints \"2.5 3.5 5.0 6.25\"\n"
   ]
  },
  {
   "cell_type": "markdown",
   "metadata": {
    "colab_type": "text",
    "id": "mBkwLDC_yKkn"
   },
   "source": [
    "### **Enumeration (열거하기)**"
   ]
  },
  {
   "cell_type": "code",
   "execution_count": 21,
   "metadata": {
    "colab": {
     "base_uri": "https://localhost:8080/",
     "height": 70
    },
    "colab_type": "code",
    "executionInfo": {
     "elapsed": 1028,
     "status": "ok",
     "timestamp": 1599116747825,
     "user": {
      "displayName": "전영은",
      "photoUrl": "",
      "userId": "13133228027442839920"
     },
     "user_tz": -540
    },
    "id": "Zs2gnz3ZyI0w",
    "outputId": "321c3e68-9d2c-4ea4-bd87-42288789bc32"
   },
   "outputs": [
    {
     "name": "stdout",
     "output_type": "stream",
     "text": [
      "0 ---> 0\n",
      "1 ---> 5\n",
      "2 ---> 10\n"
     ]
    }
   ],
   "source": [
    "for i, val in enumerate(v):\n",
    "    print('{} ---> {}'.format(i, val))"
   ]
  },
  {
   "cell_type": "code",
   "execution_count": 22,
   "metadata": {
    "colab": {
     "base_uri": "https://localhost:8080/",
     "height": 34
    },
    "colab_type": "code",
    "executionInfo": {
     "elapsed": 1179,
     "status": "ok",
     "timestamp": 1599116753224,
     "user": {
      "displayName": "전영은",
      "photoUrl": "",
      "userId": "13133228027442839920"
     },
     "user_tz": -540
    },
    "id": "mwY5BX4cyR9r",
    "outputId": "cd58f0d0-de7a-4f64-b9b7-c9bfa2d85d8b"
   },
   "outputs": [
    {
     "name": "stdout",
     "output_type": "stream",
     "text": [
      "['A', 'B', 'C', '0', '1', '2', '3']\n"
     ]
    }
   ],
   "source": [
    "v2 = [ 'A', 'B', 'C', '0', '1', '2', '3']\n",
    "print(v2)"
   ]
  },
  {
   "cell_type": "code",
   "execution_count": 23,
   "metadata": {
    "colab": {
     "base_uri": "https://localhost:8080/",
     "height": 140
    },
    "colab_type": "code",
    "executionInfo": {
     "elapsed": 758,
     "status": "ok",
     "timestamp": 1599116759141,
     "user": {
      "displayName": "전영은",
      "photoUrl": "",
      "userId": "13133228027442839920"
     },
     "user_tz": -540
    },
    "id": "rEv3i6b-yTQY",
    "outputId": "365452b9-7a5d-4a74-c76b-5a8dff9befe5"
   },
   "outputs": [
    {
     "name": "stdout",
     "output_type": "stream",
     "text": [
      "0 ---> A\n",
      "1 ---> B\n",
      "2 ---> C\n",
      "3 ---> 0\n",
      "4 ---> 1\n",
      "5 ---> 2\n",
      "6 ---> 3\n"
     ]
    }
   ],
   "source": [
    "for i, val in enumerate(v2):\n",
    "    print('{} ---> {}'.format(i, val))"
   ]
  },
  {
   "cell_type": "markdown",
   "metadata": {
    "colab": {},
    "colab_type": "code",
    "id": "Q2cIVCbayUyw"
   },
   "source": [
    "### List comprehension(LC)\n",
    "\n",
    "List comprehensions provide a concise way to create lists."
   ]
  },
  {
   "cell_type": "code",
   "execution_count": 2,
   "metadata": {},
   "outputs": [],
   "source": [
    "squares = []\n",
    "for x in range(10):\n",
    "    squares.append(x**2)"
   ]
  },
  {
   "cell_type": "code",
   "execution_count": 3,
   "metadata": {},
   "outputs": [
    {
     "name": "stdout",
     "output_type": "stream",
     "text": [
      "[0, 1, 4, 9, 16, 25, 36, 49, 64, 81]\n"
     ]
    }
   ],
   "source": [
    "print(squares)"
   ]
  },
  {
   "cell_type": "markdown",
   "metadata": {},
   "source": [
    "or, equivalently:"
   ]
  },
  {
   "cell_type": "code",
   "execution_count": 4,
   "metadata": {},
   "outputs": [],
   "source": [
    "squares = [x**2 for x in range(10)]"
   ]
  },
  {
   "cell_type": "code",
   "execution_count": 5,
   "metadata": {},
   "outputs": [
    {
     "name": "stdout",
     "output_type": "stream",
     "text": [
      "[0, 1, 4, 9, 16, 25, 36, 49, 64, 81]\n"
     ]
    }
   ],
   "source": [
    "print(squares)"
   ]
  },
  {
   "cell_type": "code",
   "execution_count": 6,
   "metadata": {},
   "outputs": [
    {
     "name": "stdout",
     "output_type": "stream",
     "text": [
      "['메메', '롱롱']\n"
     ]
    }
   ],
   "source": [
    "word = '메롱'\n",
    "print([c * 2 for c in word])"
   ]
  },
  {
   "cell_type": "code",
   "execution_count": 7,
   "metadata": {},
   "outputs": [],
   "source": [
    "A = [n for n in range(10) if n % 2 == 0]"
   ]
  },
  {
   "cell_type": "code",
   "execution_count": 8,
   "metadata": {},
   "outputs": [
    {
     "name": "stdout",
     "output_type": "stream",
     "text": [
      "[0, 2, 4, 6, 8]\n"
     ]
    }
   ],
   "source": [
    "print(A) # LC 에서 조건문을 통해 특정 값들을 필터링할 수 있다"
   ]
  },
  {
   "cell_type": "markdown",
   "metadata": {},
   "source": [
    "참고 \n",
    "\n",
    "* Python Data Structures, https://docs.python.org/3/tutorial/datastructures.html"
   ]
  }
 ],
 "metadata": {
  "colab": {
   "authorship_tag": "ABX9TyMk7VgrtoO6szHlOxsY4uWb",
   "collapsed_sections": [],
   "name": "01-HelloPython-.ipynb",
   "provenance": []
  },
  "kernelspec": {
   "display_name": "Python 3",
   "language": "python",
   "name": "python3"
  },
  "language_info": {
   "codemirror_mode": {
    "name": "ipython",
    "version": 3
   },
   "file_extension": ".py",
   "mimetype": "text/x-python",
   "name": "python",
   "nbconvert_exporter": "python",
   "pygments_lexer": "ipython3",
   "version": "3.8.2"
  }
 },
 "nbformat": 4,
 "nbformat_minor": 1
}
