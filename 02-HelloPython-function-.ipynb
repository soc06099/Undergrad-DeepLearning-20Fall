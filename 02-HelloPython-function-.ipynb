{
 "cells": [
  {
   "cell_type": "markdown",
   "metadata": {
    "colab_type": "text",
    "id": "MabQwprry2vM"
   },
   "source": [
    "# **Python tutorial #2**"
   ]
  },
  {
   "cell_type": "code",
   "execution_count": null,
   "metadata": {
    "colab": {},
    "colab_type": "code",
    "id": "maEReq79y87c"
   },
   "outputs": [],
   "source": [
    "def hello():\n",
    " print(\"Hello World\")"
   ]
  },
  {
   "cell_type": "code",
   "execution_count": null,
   "metadata": {
    "colab": {
     "base_uri": "https://localhost:8080/",
     "height": 34
    },
    "colab_type": "code",
    "executionInfo": {
     "elapsed": 1809,
     "status": "ok",
     "timestamp": 1599116942011,
     "user": {
      "displayName": "전영은",
      "photoUrl": "",
      "userId": "13133228027442839920"
     },
     "user_tz": -540
    },
    "id": "eItRwOKvy-5d",
    "outputId": "7bfe9fdf-e583-4b12-e7ee-4854fdaa92c5"
   },
   "outputs": [
    {
     "name": "stdout",
     "output_type": "stream",
     "text": [
      "Hello World\n"
     ]
    }
   ],
   "source": [
    "hello()"
   ]
  },
  {
   "cell_type": "code",
   "execution_count": null,
   "metadata": {
    "colab": {},
    "colab_type": "code",
    "id": "txXuVb04zAFh"
   },
   "outputs": [],
   "source": [
    "def hello(object):\n",
    " print(\"Hello \" + object + \"!\")"
   ]
  },
  {
   "cell_type": "code",
   "execution_count": null,
   "metadata": {
    "colab": {
     "base_uri": "https://localhost:8080/",
     "height": 34
    },
    "colab_type": "code",
    "executionInfo": {
     "elapsed": 679,
     "status": "ok",
     "timestamp": 1599116950028,
     "user": {
      "displayName": "전영은",
      "photoUrl": "",
      "userId": "13133228027442839920"
     },
     "user_tz": -540
    },
    "id": "5hfV6iwLzCPl",
    "outputId": "614379e6-a8f8-4a8c-8c20-7bc0d5838f12"
   },
   "outputs": [
    {
     "name": "stdout",
     "output_type": "stream",
     "text": [
      "Hello cat!\n"
     ]
    }
   ],
   "source": [
    "hello(\"cat\")"
   ]
  },
  {
   "cell_type": "code",
   "execution_count": null,
   "metadata": {
    "colab": {},
    "colab_type": "code",
    "id": "-dBwpTrfzDak"
   },
   "outputs": [],
   "source": [
    "def mySum(a, b):\n",
    " return a+b"
   ]
  },
  {
   "cell_type": "code",
   "execution_count": null,
   "metadata": {
    "colab": {
     "base_uri": "https://localhost:8080/",
     "height": 34
    },
    "colab_type": "code",
    "executionInfo": {
     "elapsed": 609,
     "status": "ok",
     "timestamp": 1599116963880,
     "user": {
      "displayName": "전영은",
      "photoUrl": "",
      "userId": "13133228027442839920"
     },
     "user_tz": -540
    },
    "id": "wNTw6X_bzFK7",
    "outputId": "fb09807c-fbf0-4a3d-a8c0-fcc1b7519bed"
   },
   "outputs": [
    {
     "name": "stdout",
     "output_type": "stream",
     "text": [
      "5\n"
     ]
    }
   ],
   "source": [
    "c = mySum(2, 3)\n",
    "print(c)"
   ]
  },
  {
   "cell_type": "code",
   "execution_count": null,
   "metadata": {
    "colab": {},
    "colab_type": "code",
    "id": "saP806t_zG0q"
   },
   "outputs": [],
   "source": [
    "class Man:\n",
    "    def __init__(self, name):\n",
    "        self.name = name\n",
    "        print(\"Initialized!\")\n",
    "    def hello(self):\n",
    "        print(\"Hello \" + self.name + \" !\")\n",
    "\n",
    "    def goodbye(self):\n",
    "        print(\"Good-bye \" + self.name + \" !\")"
   ]
  },
  {
   "cell_type": "code",
   "execution_count": null,
   "metadata": {
    "colab": {
     "base_uri": "https://localhost:8080/",
     "height": 34
    },
    "colab_type": "code",
    "executionInfo": {
     "elapsed": 605,
     "status": "ok",
     "timestamp": 1599117035675,
     "user": {
      "displayName": "전영은",
      "photoUrl": "",
      "userId": "13133228027442839920"
     },
     "user_tz": -540
    },
    "id": "K2EXtXa0zLQ2",
    "outputId": "1758ba35-501e-4746-817f-36a6c3947054"
   },
   "outputs": [
    {
     "name": "stdout",
     "output_type": "stream",
     "text": [
      "Initialized!\n"
     ]
    }
   ],
   "source": [
    "m = Man(\"David\")"
   ]
  },
  {
   "cell_type": "code",
   "execution_count": null,
   "metadata": {
    "colab": {
     "base_uri": "https://localhost:8080/",
     "height": 34
    },
    "colab_type": "code",
    "executionInfo": {
     "elapsed": 718,
     "status": "ok",
     "timestamp": 1599117043914,
     "user": {
      "displayName": "전영은",
      "photoUrl": "",
      "userId": "13133228027442839920"
     },
     "user_tz": -540
    },
    "id": "bD2mchKkzM2u",
    "outputId": "7ed3c4e5-69ba-45f2-fed8-cdbe18f56c2f"
   },
   "outputs": [
    {
     "name": "stdout",
     "output_type": "stream",
     "text": [
      "Hello David !\n"
     ]
    }
   ],
   "source": [
    "m.hello()"
   ]
  },
  {
   "cell_type": "code",
   "execution_count": null,
   "metadata": {
    "colab": {
     "base_uri": "https://localhost:8080/",
     "height": 34
    },
    "colab_type": "code",
    "executionInfo": {
     "elapsed": 587,
     "status": "ok",
     "timestamp": 1599117053012,
     "user": {
      "displayName": "전영은",
      "photoUrl": "",
      "userId": "13133228027442839920"
     },
     "user_tz": -540
    },
    "id": "SwhGnJp6zaVR",
    "outputId": "0ba8a099-10fe-440c-f11e-10ce14c59652"
   },
   "outputs": [
    {
     "name": "stdout",
     "output_type": "stream",
     "text": [
      "Good-bye David !\n"
     ]
    }
   ],
   "source": [
    "m.goodbye()"
   ]
  },
  {
   "cell_type": "code",
   "execution_count": null,
   "metadata": {
    "colab": {},
    "colab_type": "code",
    "id": "aUio9Xrizck4"
   },
   "outputs": [],
   "source": []
  }
 ],
 "metadata": {
  "colab": {
   "authorship_tag": "ABX9TyMaW9m5mPgT5UDr7cOIubQr",
   "collapsed_sections": [],
   "name": "02-HelloPython-function-.ipynb",
   "provenance": []
  },
  "kernelspec": {
   "display_name": "Python 3",
   "language": "python",
   "name": "python3"
  },
  "language_info": {
   "codemirror_mode": {
    "name": "ipython",
    "version": 3
   },
   "file_extension": ".py",
   "mimetype": "text/x-python",
   "name": "python",
   "nbconvert_exporter": "python",
   "pygments_lexer": "ipython3",
   "version": "3.8.2"
  }
 },
 "nbformat": 4,
 "nbformat_minor": 1
}
