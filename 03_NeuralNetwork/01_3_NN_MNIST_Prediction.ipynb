{
 "cells": [
  {
   "cell_type": "markdown",
   "metadata": {},
   "source": [
    "## 신경망의 추론 처리 \n",
    "\n",
    "MNIST 데이터 셋을 가지고 추론을 수행하는 신경망 구현 "
   ]
  },
  {
   "cell_type": "code",
   "execution_count": 1,
   "metadata": {},
   "outputs": [],
   "source": [
    "import sys, os \n",
    "sys.path.append(os.pardir)\n",
    "from dataset.mnist import load_mnist\n",
    "import pickle\n",
    "import numpy as np "
   ]
  },
  {
   "cell_type": "code",
   "execution_count": 2,
   "metadata": {},
   "outputs": [],
   "source": [
    "def sigmoid(x):\n",
    "    return 1 / (1+np.exp(-x))"
   ]
  },
  {
   "cell_type": "code",
   "execution_count": 3,
   "metadata": {},
   "outputs": [],
   "source": [
    "def softmax(a):\n",
    "    exp_a = np.exp(a)\n",
    "    sum_exp_a = np.sum(exp_a)\n",
    "    y = exp_a / sum_exp_a\n",
    "    return y"
   ]
  },
  {
   "cell_type": "code",
   "execution_count": 4,
   "metadata": {},
   "outputs": [],
   "source": [
    "def get_data():\n",
    "    (x_train, t_train), (x_test, t_test) = \\\n",
    "        load_mnist(normalize=True, flatten=True, one_hot_label=False)\n",
    "    return x_test, t_test"
   ]
  },
  {
   "cell_type": "code",
   "execution_count": 6,
   "metadata": {},
   "outputs": [],
   "source": [
    "def init_network():\n",
    "    with open(\"dataset/sample_weight.pkl\", 'rb') as f:\n",
    "        network = pickle.load(f)\n",
    "        \n",
    "    return network"
   ]
  },
  {
   "cell_type": "code",
   "execution_count": 12,
   "metadata": {},
   "outputs": [],
   "source": [
    "def predict(network, x):\n",
    "    W1, W2, W3 = network['W1'], network['W2'], network['W3']\n",
    "    b1, b2, b3 = network['b1'], network['b2'], network['b3']\n",
    "    \n",
    "    a1 = np.dot(x, W1) + b1\n",
    "    z1 = sigmoid(a1)\n",
    "    a2 = np.dot(z1, W2) + b2\n",
    "    z2 = sigmoid(a2)\n",
    "    a3 = np.dot(z2, W3) + b3\n",
    "    y = softmax(a3)\n",
    "    \n",
    "    return y"
   ]
  },
  {
   "cell_type": "code",
   "execution_count": 13,
   "metadata": {},
   "outputs": [],
   "source": [
    "x, t = get_data()"
   ]
  },
  {
   "cell_type": "code",
   "execution_count": 14,
   "metadata": {},
   "outputs": [
    {
     "data": {
      "text/plain": [
       "((10000, 784), (10000,))"
      ]
     },
     "execution_count": 14,
     "metadata": {},
     "output_type": "execute_result"
    }
   ],
   "source": [
    "x.shape, t.shape"
   ]
  },
  {
   "cell_type": "markdown",
   "metadata": {},
   "source": [
    "정확도 평가 "
   ]
  },
  {
   "cell_type": "code",
   "execution_count": 19,
   "metadata": {},
   "outputs": [],
   "source": [
    "network = init_network()"
   ]
  },
  {
   "cell_type": "code",
   "execution_count": 20,
   "metadata": {},
   "outputs": [],
   "source": [
    "#network['W1'].shape, network['b1'].shape"
   ]
  },
  {
   "cell_type": "code",
   "execution_count": 21,
   "metadata": {},
   "outputs": [],
   "source": [
    "y = predict(network, x[0])"
   ]
  },
  {
   "cell_type": "code",
   "execution_count": 22,
   "metadata": {},
   "outputs": [
    {
     "data": {
      "text/plain": [
       "(10,)"
      ]
     },
     "execution_count": 22,
     "metadata": {},
     "output_type": "execute_result"
    }
   ],
   "source": [
    "y.shape"
   ]
  },
  {
   "cell_type": "code",
   "execution_count": 23,
   "metadata": {},
   "outputs": [
    {
     "data": {
      "text/plain": [
       "array([8.4412481e-05, 2.6350667e-06, 7.1549427e-04, 1.2586263e-03,\n",
       "       1.1727954e-06, 4.4990818e-05, 1.6269317e-08, 9.9706495e-01,\n",
       "       9.3744729e-06, 8.1831100e-04], dtype=float32)"
      ]
     },
     "execution_count": 23,
     "metadata": {},
     "output_type": "execute_result"
    }
   ],
   "source": [
    "y"
   ]
  },
  {
   "cell_type": "code",
   "execution_count": 24,
   "metadata": {},
   "outputs": [
    {
     "data": {
      "text/plain": [
       "0.99706495"
      ]
     },
     "execution_count": 24,
     "metadata": {},
     "output_type": "execute_result"
    }
   ],
   "source": [
    "np.max(y)"
   ]
  },
  {
   "cell_type": "code",
   "execution_count": 25,
   "metadata": {},
   "outputs": [
    {
     "data": {
      "text/plain": [
       "7"
      ]
     },
     "execution_count": 25,
     "metadata": {},
     "output_type": "execute_result"
    }
   ],
   "source": [
    "np.argmax(y)"
   ]
  },
  {
   "cell_type": "code",
   "execution_count": 26,
   "metadata": {},
   "outputs": [
    {
     "name": "stdout",
     "output_type": "stream",
     "text": [
      "Ans #7, Pred.#7, 0.9971\n"
     ]
    }
   ],
   "source": [
    "title = 'Ans #{}, Pred.#{}, {:.4f}'.format(t[0], np.argmax(y), np.max(y))\n",
    "print(title)"
   ]
  },
  {
   "cell_type": "code",
   "execution_count": null,
   "metadata": {},
   "outputs": [],
   "source": []
  },
  {
   "cell_type": "code",
   "execution_count": 27,
   "metadata": {},
   "outputs": [],
   "source": [
    "accuracy_cnt = 0\n",
    "for i in range(len(x)):\n",
    "    y = predict(network, x[i])\n",
    "    \n",
    "    p = np.argmax(y) # 확률이 가장 높은 원소의 인덱스를 얻는다.\n",
    "    \n",
    "    if p == t[i]:\n",
    "        accuracy_cnt += 1"
   ]
  },
  {
   "cell_type": "code",
   "execution_count": 28,
   "metadata": {},
   "outputs": [
    {
     "name": "stdout",
     "output_type": "stream",
     "text": [
      "Accuracy:0.9352\n"
     ]
    }
   ],
   "source": [
    "print(\"Accuracy:\" + str(float(accuracy_cnt) / len(x)))"
   ]
  },
  {
   "cell_type": "code",
   "execution_count": 29,
   "metadata": {},
   "outputs": [
    {
     "data": {
      "text/plain": [
       "10000"
      ]
     },
     "execution_count": 29,
     "metadata": {},
     "output_type": "execute_result"
    }
   ],
   "source": [
    "len(x)"
   ]
  },
  {
   "cell_type": "markdown",
   "metadata": {},
   "source": [
    "### 랜덤으로 몇개만 뽑아서 테스트 해보기"
   ]
  },
  {
   "cell_type": "code",
   "execution_count": 30,
   "metadata": {},
   "outputs": [],
   "source": [
    "idx_test = np.random.choice(len(x), 1000)"
   ]
  },
  {
   "cell_type": "code",
   "execution_count": 31,
   "metadata": {},
   "outputs": [
    {
     "data": {
      "text/plain": [
       "array([3987, 5035, 5721, 7356, 9542, 8236, 5469,  571, 1588, 4036, 3875,\n",
       "       1180, 8404, 9566, 9941, 3056, 7825, 8676, 1972, 1284, 3873, 7132,\n",
       "       4494, 5841, 4213, 6482, 1608, 7944, 5680, 6160, 8182, 9457, 8262,\n",
       "       2938, 7163, 4533, 5951, 5483, 8231, 8638, 7585, 3353, 9140, 8608,\n",
       "       6995, 6416, 2020, 1468, 7533, 4874, 5914, 1868, 9710, 9591,  970,\n",
       "       1248, 1603, 8304, 9763, 5624, 5077, 8056, 5381,  455, 6098, 1770,\n",
       "       3094, 3040, 1691, 3868, 8075, 1969, 9894, 3010, 3762,  190, 1721,\n",
       "       5964, 9072, 6341, 3975,  334,  644, 9383, 8371, 4063, 8846, 8373,\n",
       "       7086, 9739, 7189, 7467, 3967, 6668, 2132, 5131,  649, 1638,  710,\n",
       "       5841, 4221, 5126, 6976, 3334, 8078, 9802, 5424,  170, 3358, 6427,\n",
       "       7021, 2341, 8382, 2620, 3444, 2704, 7999, 6977, 4237, 9971, 5672,\n",
       "       9585, 5108, 1412, 7443, 9628, 8808, 7368, 9237, 6086, 6762,   26,\n",
       "       2942, 9188, 5271, 8563, 6773, 6742,  504,  783, 1018, 4065, 3587,\n",
       "       3724, 5347, 7033,  668, 3595, 2065, 5067, 1173, 7695, 1683, 5745,\n",
       "       5411,   81, 8186, 3924, 8769, 8285, 5775, 9132, 9143,  756, 8458,\n",
       "       1130, 2981, 7298, 8803, 1976, 8085, 1919, 5476,  602, 2976, 6405,\n",
       "       5845, 7979, 7599, 8047, 5777, 9182, 4549, 7244, 8257, 6917, 9605,\n",
       "       9858,  711, 9942, 1143, 5893, 4643, 6307, 8841, 2721, 8013, 6984,\n",
       "       5871, 4483, 6431, 6320, 9502, 7681, 3028,  293, 7027, 2483, 3153,\n",
       "       1964, 4691, 9814,  386, 7185,  942, 4761,  680, 7273, 9081, 9680,\n",
       "       2002, 9642,  118, 7304, 8675, 2695, 4977, 7942, 4389, 6970, 7924,\n",
       "       6609, 2913, 3610, 2225, 9462, 6133, 8657, 2119, 4287, 7175, 2101,\n",
       "       8713, 6386, 9598, 5524, 5379,  601,  384, 4191, 4111, 4960, 9821,\n",
       "        638, 3614, 3528, 5054, 2063, 2824, 1929, 3966, 9908, 7858, 9170,\n",
       "       9468, 2129, 8188, 7227, 4537, 6138, 7048, 3719, 2018, 3881, 2781,\n",
       "       3358, 9519, 1842, 6320, 6983, 1481, 4510, 1047, 9541, 7814, 7042,\n",
       "       8500, 4463, 6753, 4161,  249, 9700,  128, 2024, 4195, 2633, 1361,\n",
       "       8655, 7658, 2762, 3473, 5402, 8495, 6464, 1252, 6484, 5556, 8876,\n",
       "       7407, 4324, 3739, 8434,   93, 6477, 4838, 2808, 9857, 3490, 7993,\n",
       "       5235, 1505, 3832, 4011, 8004, 5636, 8521, 1460, 4942, 1915,  666,\n",
       "       8551, 6676, 8214, 9644, 9893, 3261, 4230, 6643, 2767, 7225, 2733,\n",
       "       2324, 6113, 8432, 6879, 3703, 5648, 1224, 1463, 3694, 4080, 5034,\n",
       "       1503, 5587, 9715,  905, 8452, 1471,   41, 5624,  566, 1728, 4798,\n",
       "       5994, 5503, 1580, 2635, 1558, 4876, 6530, 5557,  267, 2061, 1979,\n",
       "       9262, 1510, 9304, 8442, 4452, 4623, 3077, 7300, 9243, 6834, 1079,\n",
       "       6746, 6770, 1879, 9813,   63, 5113, 2640, 2239, 4462, 9365, 8246,\n",
       "       8601, 9670, 8355, 6646, 4861, 3051,  743, 3044, 5459, 7636, 9704,\n",
       "       5753, 9670, 1260, 5225, 3929, 5608, 1785, 6305, 5732,  586, 1060,\n",
       "       5100, 3477, 1792, 9223, 2737,  148, 7467, 3969, 9143, 4199, 5779,\n",
       "       1029, 6927, 4076, 6832, 5861, 9086, 9090, 1811, 2926, 5840, 4879,\n",
       "       7098,   95, 2832, 6981, 7492, 2860, 2426, 7671, 9391, 3889, 1966,\n",
       "         31, 6630,  509, 3456, 4009, 6245, 5929, 7815, 5921, 9764, 4760,\n",
       "       4559, 7869, 8783, 4148, 4445, 4867, 2230, 2677, 5950, 7063, 9891,\n",
       "       8103, 8154, 7111, 3642, 6151, 4592, 9927, 4923, 5607,   45, 9664,\n",
       "       1235, 1034, 9134, 3497, 6932, 5765, 1065, 9062, 4775, 7796, 6138,\n",
       "       1318, 8918, 6607, 7265, 3463, 4143, 1958, 5550, 5673, 1216, 9573,\n",
       "       1488, 4479, 1172, 8138, 3677, 9944, 2179, 3824, 6421, 7536, 5833,\n",
       "       8728, 8860, 9436,  660, 3776, 5379, 6941,  164, 7971, 1468,  317,\n",
       "       3020, 5192, 8634, 7037, 3094, 4570, 3374, 1299, 3662, 5468,  706,\n",
       "       7667,  124, 5920, 9620, 3440, 1518, 9349, 5215, 2913, 3407, 8046,\n",
       "       9988, 6835, 1199, 5344, 5968,  379, 8200, 8356, 7103, 9618, 9027,\n",
       "       8288, 8479,  121,   70, 7758, 9863, 8583, 9153,  746, 9159, 5604,\n",
       "       5879, 4798, 5641, 1977,  546, 4086, 4149, 1750, 2039, 2333, 9998,\n",
       "       4646, 2046, 2672, 5243, 5936, 7678, 7740, 2119, 9232,  870, 3328,\n",
       "       1089, 7194, 9985, 1659, 1633, 4587, 7148, 4355, 7981, 9167, 6564,\n",
       "       3163, 9760, 5720, 5698, 2826, 9831, 6185, 2925, 6093, 6848, 6046,\n",
       "       2936, 7779, 5871, 4652, 2709, 1011, 6029, 4661, 1296, 5922, 5403,\n",
       "       9045,   46, 5066, 9590, 1824, 8547, 7029, 3916, 5842, 3688, 7692,\n",
       "       3994, 2669, 8437, 7897, 2635, 7553, 8816, 5651, 4953, 7987, 5377,\n",
       "        894, 6999, 8653, 4278, 5937, 6603, 6094, 4649, 3418, 6119, 8591,\n",
       "       2954, 1160, 6266, 8667,  504, 9536, 3276, 3002, 8136, 6057, 8691,\n",
       "       2079, 9573, 9110, 8659,  962, 4451,  122, 2705, 6499, 1299, 5272,\n",
       "        558, 5301, 6029, 6366, 8601, 9867, 2310, 5240, 4108, 2021, 8124,\n",
       "       6858, 8314, 2005, 7075, 8094, 9195, 9237, 8485, 3499, 9581, 4993,\n",
       "       6963, 3726, 3392, 3142, 7533, 7912, 4700, 4423, 5942,  136, 1142,\n",
       "       4454, 7149, 8468, 7463, 6605, 2337, 6695, 8669,  774, 8233, 3584,\n",
       "       5204, 9287, 2083, 6516, 5198, 8009, 3180, 4362, 2232, 7259, 7202,\n",
       "       7819,  401, 1048, 8169, 7228, 8982,  934, 8884, 8639, 1665, 4601,\n",
       "       3100, 8810, 6108, 9368, 7589, 8985, 8776, 8342, 5408, 8559, 1927,\n",
       "       4791, 8833, 3759, 2031, 5734, 3878, 4289, 3613, 4882, 3399,  188,\n",
       "       1030, 6282, 5831, 9079, 3622, 3649, 9785,  323, 1233,  902, 3614,\n",
       "       3610, 2089,  822,  749, 1120, 2545, 3009, 1257, 2020, 4003, 6396,\n",
       "       9933, 9470, 4259, 1629, 4768, 1787,  791, 7005, 8638, 6024, 6292,\n",
       "       4307, 3242, 6688, 3844, 7067, 8516, 8703, 1315, 1722, 3269, 3348,\n",
       "       8069, 3781, 2309,  850, 4918, 6488,  999, 5234, 5271, 1252, 2385,\n",
       "       1748, 3710,  421, 5923, 2226,  380, 1778,   46, 2651, 6956, 3064,\n",
       "       1938,  350, 2601, 2499, 4639, 7002, 7316, 3508,   11, 5023, 7135,\n",
       "       1972, 2482, 8545, 9891, 6703, 1300, 4953,   54, 9102,  590, 7897,\n",
       "       1565, 7899, 1467, 8290, 4831, 2260, 4659, 4559, 7492, 4085,  277,\n",
       "       8278, 5459, 3626, 3475, 6264, 5859, 6958, 6544, 6480, 1813,  525,\n",
       "       3898, 7184, 7232, 1839, 4816,  831, 9197, 1618, 1154, 5567, 9881,\n",
       "       4710, 1231, 6993, 7357, 9424,  950, 9308, 3125, 6169, 2457, 2679,\n",
       "       3518, 9770, 6560, 2779, 2336, 8237, 6636, 9366, 5570, 7206, 8263,\n",
       "       8108, 1897, 4505, 5278, 1160, 8719, 8007, 7728, 2969, 5397, 9477,\n",
       "       2605, 2627, 4287, 9510, 6021, 8454, 8591, 9284, 1180, 8818, 6002,\n",
       "        338,  978, 1169, 9222, 3955, 6908, 4786, 2210, 8646, 8326, 3842,\n",
       "       7197, 7732, 7079,   16, 8207,  759, 7882, 4954, 9602, 7316, 3991,\n",
       "       1183, 3759, 4521, 2916, 4993, 8630, 8656, 9073,  128, 9173, 9551,\n",
       "       3219, 3436, 4768, 7006, 2667,  984,  325, 3741, 1900, 6314, 8246,\n",
       "       1073, 1499, 4452, 6383, 5751, 6812, 5184, 9090, 7960, 1500, 9090,\n",
       "        579, 3989, 8076, 4016, 3051,  902,  850, 5010, 2907,  123])"
      ]
     },
     "execution_count": 31,
     "metadata": {},
     "output_type": "execute_result"
    }
   ],
   "source": [
    "idx_test"
   ]
  },
  {
   "cell_type": "code",
   "execution_count": 32,
   "metadata": {},
   "outputs": [],
   "source": [
    "x_select = x[idx_test]\n",
    "y_select = t[idx_test]"
   ]
  },
  {
   "cell_type": "code",
   "execution_count": 33,
   "metadata": {},
   "outputs": [
    {
     "data": {
      "text/plain": [
       "(1000, 784)"
      ]
     },
     "execution_count": 33,
     "metadata": {},
     "output_type": "execute_result"
    }
   ],
   "source": [
    "x_select.shape"
   ]
  },
  {
   "cell_type": "code",
   "execution_count": 34,
   "metadata": {},
   "outputs": [],
   "source": [
    "accuracy_cnt = 0\n",
    "for i in range(len(x_select)):\n",
    "    y = predict(network, x_select[i])\n",
    "    \n",
    "    p = np.argmax(y) # 확률이 가장 높은 원소의 인덱스를 얻는다.\n",
    "    \n",
    "    if p == y_select[i]:\n",
    "        accuracy_cnt += 1"
   ]
  },
  {
   "cell_type": "code",
   "execution_count": 35,
   "metadata": {},
   "outputs": [
    {
     "data": {
      "text/plain": [
       "0.933"
      ]
     },
     "execution_count": 35,
     "metadata": {},
     "output_type": "execute_result"
    }
   ],
   "source": [
    "accuracy_cnt / len(x_select)"
   ]
  },
  {
   "cell_type": "code",
   "execution_count": null,
   "metadata": {},
   "outputs": [],
   "source": []
  }
 ],
 "metadata": {
  "kernelspec": {
   "display_name": "Python 3",
   "language": "python",
   "name": "python3"
  },
  "language_info": {
   "codemirror_mode": {
    "name": "ipython",
    "version": 3
   },
   "file_extension": ".py",
   "mimetype": "text/x-python",
   "name": "python",
   "nbconvert_exporter": "python",
   "pygments_lexer": "ipython3",
   "version": "3.6.9"
  }
 },
 "nbformat": 4,
 "nbformat_minor": 4
}
